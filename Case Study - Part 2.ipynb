{
 "cells": [
  {
   "cell_type": "markdown",
   "metadata": {},
   "source": [
    "# Case Study Part 2"
   ]
  },
  {
   "cell_type": "markdown",
   "metadata": {},
   "source": [
    "## Todos\n",
    "\n",
    "- ~~Write Introduction~~\n",
    "- ~~Write Data formats~~\n",
    "- ~~Load data~~ \n",
    "- ~~Write function to print validation images~~\n",
    "- ~~Write function to add found boundaries to images~~\n",
    "- Write function to create predictions\n",
    "<br>\n",
    "\n",
    "**Ideas**\n",
    "- Data Augmentation: Shifting, rotating and so on to increase amount of training data"
   ]
  },
  {
   "cell_type": "markdown",
   "metadata": {},
   "source": [
    "## Introduction"
   ]
  },
  {
   "cell_type": "markdown",
   "metadata": {},
   "source": [
    "For one of their projects an insurance company wants to get an estimate of the assets of their clients. For this they want to scan satellite images for four different objects: ponds, pools, photovoltaic systems and trampolines.\n",
    "\n",
    "### Available data\n",
    "To solve the task the following data are available.\n",
    "\n",
    "**Training data**\n",
    "<br>\n",
    "The training data consist of five different groups. In the beginning the data themselves are not labels (as in labeled and already in a dataframe form). They are just .png and .jpg files in different subfolders. All training images are of size 256x256 pixels. The following five groups are available:\n",
    "- Trampoline images: 140 images that contain a trampoline.\n",
    "- Pond images: 9 images that contain a pond.\n",
    "- Pool images: 20 images that contain a pool.\n",
    "- Solar images: 37 images that contain a photovoltaic system.\n",
    "- Background images: 3110 images that do not contain any of the above-mentioned items.\n",
    "\n",
    "This sums up to 3316 labeled training patches. \n",
    "\n",
    "<br>\n",
    "\n",
    "**Unlabeled training data**\n",
    "<br>\n",
    "In addition to the training patches, 20 validation images are available. They are of size 8000x8000 each and can be used for the manual validation of an approach.\n",
    "\n",
    "<br>\n",
    "\n",
    "**Validation data**\n",
    "<br>\n",
    "The validation data set contains 3 images of size 8000x8000. In addition there is a csv file that contains the coordinates of an item and a surrounding bounding box of various items and their respective labels.\n",
    "Thus, one prediction should have the following shape (1,7) with column 1 as strings and the rest as integer values:\n",
    "|label|y_target|x_target|y_upper_left|x_upper_left|y_lower_right|x_lower_right\n",
    "|---|---|---|---|---|---|---|\n",
    "|trampoline|268|278|140|150|396|406|\n",
    "|...|\n",
    "\n",
    "<br>\n",
    "\n",
    "**Predictions** <br>\n",
    "A prediction should represent a bounding box around a target entity. One prediction consist of the label and the four coordinates that describe the bounding box. <br>\n",
    "<span style=\"color:red\">The bounding box must be of size 256 x 256</span>. <br>\n",
    "A prediction is considered correct if the predicted bounding box overlaps at least 50% with the ground truth bounding box. <br>\n",
    "This overlap is computed as the area of the intersection of the boxes divided by the union of the areas of the boxes: IoU = intersection_area / union_area:\n",
    "\n",
    "<img src=\"https://www.baeldung.com/wp-content/uploads/sites/4/2022/04/fig1.png\" alt=\"Intersection over Union for Object Detection | Baeldung on Computer Science\">\n",
    "\n",
    "Our predictions thus must each be of shape (1,5):\n",
    "|label|y_upper_left|x_upper_left|y_lower_right|x_lower_right\n",
    "|---|---|---|---|---|\n",
    "|trampoline|140|150|396|406|\n",
    "|...|\n"
   ]
  },
  {
   "cell_type": "markdown",
   "metadata": {},
   "source": [
    "## Data retrieval"
   ]
  },
  {
   "cell_type": "markdown",
   "metadata": {},
   "source": [
    "This section loads the training patches into a numpy array and creates the corresponding label vector.\n",
    "The result are X_train, X_val, y_train and y_val. \n",
    "\n",
    "The images are converted to RGB values, which is why there are 3 channels in the training data.\n",
    "\n",
    "The training data sets are of dimension (number_of_instances x height x width x 3 channels). \n",
    "The label vectors only have one dimension (number_of_instances)."
   ]
  },
  {
   "cell_type": "code",
   "execution_count": 1,
   "metadata": {},
   "outputs": [],
   "source": [
    "from PIL import Image\n",
    "import numpy as np\n",
    "import os"
   ]
  },
  {
   "cell_type": "code",
   "execution_count": 2,
   "metadata": {},
   "outputs": [],
   "source": [
    "def loadImagesToArray(path:str):\n",
    "    '''\n",
    "    Loads all .jpg and .png files from the specified directory.\\n\n",
    "    Each image will be converted into an array of size (height x width x channels).\\n\n",
    "    The return numpy array is of dimensions (numberOfImages x height x width x channels).\\n\n",
    "    '''\n",
    "    imagesArray = []\n",
    "\n",
    "    counter = 0\n",
    "    for file in os.scandir(path):\n",
    "        filepath = os.fsdecode(file)\n",
    "        if(filepath.endswith(\".jpg\") or filepath.endswith(\".png\")):\n",
    "                imgArray = np.array(Image.open(filepath))\n",
    "                imagesArray.append(imgArray)\n",
    "                counter += 1                  \n",
    "    return np.array(imagesArray)\n",
    "\n",
    "def loadTrainingDataAndLabels(path:str, subdirectories: list[str]):\n",
    "    '''\n",
    "    Loads the training data as numpy arrays and creates the corresponding labels.\\n\n",
    "    For this to work, the images should be under the folder <path> in separate subdirectories, one for each class.\\n\n",
    "    The labels will be inferred from the names of the subdirectories. \\n\n",
    "\n",
    "    Returns the training data as a numpy array with the dimensions (number_of_images x height x width x channels).\\n\n",
    "    Returns the labels as a numpy array with the dimensions (number_of_images).\n",
    "    '''\n",
    "\n",
    "    training_data = []\n",
    "    labels = []\n",
    "\n",
    "    for directory in subdirectories:\n",
    "        images_array = loadImagesToArray(os.path.join(path, directory))\n",
    "        training_data.extend(images_array)\n",
    "\n",
    "        labels.extend(np.full(len(images_array), directory))\n",
    "\n",
    "    training_data_array = np.array(training_data)\n",
    "    print(\"Shape of training_data: \", training_data_array.shape)\n",
    "    labels_array = np.array(labels)\n",
    "    print(\"Shape of labels: \", labels_array.shape)\n",
    "    \n",
    "    return training_data_array, labels_array"
   ]
  },
  {
   "cell_type": "code",
   "execution_count": 3,
   "metadata": {},
   "outputs": [
    {
     "name": "stdout",
     "output_type": "stream",
     "text": [
      "Shape of training_data:  (3934, 256, 256, 3)\n",
      "Shape of labels:  (3934,)\n"
     ]
    }
   ],
   "source": [
    "training_data, labels = loadTrainingDataAndLabels(\"data/training_patches/\", [\"background\", \"ponds\", \"pools\", \"solar\", \"trampoline\"])\n",
    "\n",
    "from sklearn import preprocessing\n",
    "\n",
    "le = preprocessing.LabelEncoder()\n",
    "le.fit(labels)\n",
    "labels_categorical = le.transform(labels)\n",
    "\n"
   ]
  },
  {
   "cell_type": "code",
   "execution_count": 4,
   "metadata": {},
   "outputs": [
    {
     "data": {
      "text/plain": [
       "array([[0, 0, 0, 0, 1],\n",
       "       [0, 0, 0, 1, 0],\n",
       "       [0, 0, 1, 0, 0],\n",
       "       [0, 1, 0, 0, 0],\n",
       "       [1, 0, 0, 0, 0]], dtype=int8)"
      ]
     },
     "execution_count": 4,
     "metadata": {},
     "output_type": "execute_result"
    }
   ],
   "source": [
    "from sklearn.model_selection import train_test_split\n",
    "\n",
    "X_train, X_val, y_train, y_val = train_test_split(training_data, labels_categorical, test_size=0.33, random_state=1, stratify=labels)\n",
    "\n",
    "from tensorflow.keras.utils import to_categorical\n",
    "y_train = to_categorical(y_train, dtype=\"int8\")\n",
    "np.unique(y_train, axis=0)"
   ]
  },
  {
   "cell_type": "code",
   "execution_count": 5,
   "metadata": {},
   "outputs": [],
   "source": [
    "from tensorflow.keras.layers import InputLayer, Dense, Flatten, Conv2D, MaxPool2D\n",
    "from tensorflow import keras\n",
    "model = keras.models.Sequential()\n",
    "model.add(InputLayer(input_shape=(256,256,3)))\n",
    "model.add(Conv2D(filters=10, kernel_size=(3,3), strides=1, padding=\"same\", activation=\"relu\"))\n",
    "model.add(MaxPool2D(pool_size=(2,2)))\n",
    "model.add(Flatten())\n",
    "model.add(Dense(20, activation=\"relu\"))\n",
    "model.add(Dense(20, activation=\"relu\"))\n",
    "model.add(Dense(5, activation=\"softmax\"))"
   ]
  },
  {
   "cell_type": "code",
   "execution_count": 6,
   "metadata": {},
   "outputs": [
    {
     "name": "stdout",
     "output_type": "stream",
     "text": [
      "Model: \"sequential\"\n",
      "_________________________________________________________________\n",
      " Layer (type)                Output Shape              Param #   \n",
      "=================================================================\n",
      " conv2d (Conv2D)             (None, 256, 256, 10)      280       \n",
      "                                                                 \n",
      " max_pooling2d (MaxPooling2D  (None, 128, 128, 10)     0         \n",
      " )                                                               \n",
      "                                                                 \n",
      " flatten (Flatten)           (None, 163840)            0         \n",
      "                                                                 \n",
      " dense (Dense)               (None, 20)                3276820   \n",
      "                                                                 \n",
      " dense_1 (Dense)             (None, 20)                420       \n",
      "                                                                 \n",
      " dense_2 (Dense)             (None, 5)                 105       \n",
      "                                                                 \n",
      "=================================================================\n",
      "Total params: 3,277,625\n",
      "Trainable params: 3,277,625\n",
      "Non-trainable params: 0\n",
      "_________________________________________________________________\n"
     ]
    }
   ],
   "source": [
    "model.summary()"
   ]
  },
  {
   "cell_type": "code",
   "execution_count": 7,
   "metadata": {},
   "outputs": [],
   "source": [
    "model.compile(loss=\"categorical_crossentropy\", optimizer=\"adam\", metrics=[\"accuracy\"])"
   ]
  },
  {
   "cell_type": "code",
   "execution_count": 8,
   "metadata": {
    "scrolled": true
   },
   "outputs": [
    {
     "name": "stdout",
     "output_type": "stream",
     "text": [
      "Epoch 1/20\n",
      "38/38 [==============================] - 6s 44ms/step - loss: 638.4708 - accuracy: 0.5770 - val_loss: 494.0076 - val_accuracy: 0.7803\n",
      "Epoch 2/20\n",
      "38/38 [==============================] - 1s 39ms/step - loss: 164.0669 - accuracy: 0.6858 - val_loss: 36.4162 - val_accuracy: 0.7727\n",
      "Epoch 3/20\n",
      "38/38 [==============================] - 1s 38ms/step - loss: 10.7032 - accuracy: 0.7440 - val_loss: 3.1609 - val_accuracy: 0.8068\n",
      "Epoch 4/20\n",
      "38/38 [==============================] - 1s 40ms/step - loss: 1.5757 - accuracy: 0.8785 - val_loss: 1.9977 - val_accuracy: 0.8523\n",
      "Epoch 5/20\n",
      "38/38 [==============================] - 2s 40ms/step - loss: 0.7139 - accuracy: 0.9211 - val_loss: 1.5122 - val_accuracy: 0.8144\n",
      "Epoch 6/20\n",
      "38/38 [==============================] - 2s 42ms/step - loss: 0.4923 - accuracy: 0.9422 - val_loss: 1.4676 - val_accuracy: 0.8371\n",
      "Epoch 7/20\n",
      "38/38 [==============================] - 2s 45ms/step - loss: 0.3691 - accuracy: 0.9629 - val_loss: 1.5463 - val_accuracy: 0.8561\n",
      "Epoch 8/20\n",
      "38/38 [==============================] - 2s 46ms/step - loss: 0.2715 - accuracy: 0.9637 - val_loss: 1.4366 - val_accuracy: 0.8523\n",
      "Epoch 9/20\n",
      "38/38 [==============================] - 2s 46ms/step - loss: 0.2046 - accuracy: 0.9722 - val_loss: 1.4230 - val_accuracy: 0.8561\n",
      "Epoch 10/20\n",
      "38/38 [==============================] - 2s 49ms/step - loss: 0.1600 - accuracy: 0.9751 - val_loss: 1.4526 - val_accuracy: 0.8674\n",
      "Epoch 11/20\n",
      "38/38 [==============================] - 2s 53ms/step - loss: 0.1105 - accuracy: 0.9760 - val_loss: 1.4374 - val_accuracy: 0.8636\n",
      "Epoch 12/20\n",
      "38/38 [==============================] - 2s 54ms/step - loss: 0.0774 - accuracy: 0.9814 - val_loss: 1.5042 - val_accuracy: 0.8674\n",
      "Epoch 13/20\n",
      "38/38 [==============================] - 2s 54ms/step - loss: 0.0564 - accuracy: 0.9857 - val_loss: 1.4837 - val_accuracy: 0.8561\n",
      "Epoch 14/20\n",
      "38/38 [==============================] - 2s 54ms/step - loss: 0.0444 - accuracy: 0.9886 - val_loss: 1.4098 - val_accuracy: 0.8674\n",
      "Epoch 15/20\n",
      "38/38 [==============================] - 2s 54ms/step - loss: 0.0314 - accuracy: 0.9916 - val_loss: 1.5560 - val_accuracy: 0.8674\n",
      "Epoch 16/20\n",
      "38/38 [==============================] - 2s 53ms/step - loss: 0.0237 - accuracy: 0.9949 - val_loss: 1.5209 - val_accuracy: 0.8674\n",
      "Epoch 17/20\n",
      "38/38 [==============================] - 2s 56ms/step - loss: 0.0186 - accuracy: 0.9975 - val_loss: 1.5580 - val_accuracy: 0.8750\n",
      "Epoch 18/20\n",
      "38/38 [==============================] - 2s 59ms/step - loss: 0.0158 - accuracy: 0.9983 - val_loss: 1.5753 - val_accuracy: 0.8674\n",
      "Epoch 19/20\n",
      "38/38 [==============================] - 2s 60ms/step - loss: 0.0129 - accuracy: 0.9987 - val_loss: 1.6576 - val_accuracy: 0.8598\n",
      "Epoch 20/20\n",
      "38/38 [==============================] - 2s 50ms/step - loss: 0.0128 - accuracy: 0.9979 - val_loss: 1.6469 - val_accuracy: 0.8674\n"
     ]
    }
   ],
   "source": [
    "history = model.fit(X_train, \n",
    "                    y_train, \n",
    "                    epochs=20,\n",
    "                    batch_size=64,\n",
    "                    validation_split=0.1,\n",
    "                   )"
   ]
  },
  {
   "cell_type": "code",
   "execution_count": 9,
   "metadata": {},
   "outputs": [
    {
     "data": {
      "image/png": "[encoded data removed]",
      "text/plain": [
       "<Figure size 720x360 with 1 Axes>"
      ]
     },
     "metadata": {
      "needs_background": "light"
     },
     "output_type": "display_data"
    }
   ],
   "source": [
    "import pandas\n",
    "%matplotlib inline\n",
    "import matplotlib.pyplot as plt\n",
    "def plot_history(history, title):\n",
    "    df = pandas.DataFrame(history.history)\n",
    "    ax = df.plot(figsize=(10,5))\n",
    "    plt.grid(True)\n",
    "    ax.set_title(title)\n",
    "    ax.set_xlabel(\"epochs\")\n",
    "    plt.show()\n",
    "\n",
    "plot_history(history, \"Training\")"
   ]
  },
  {
   "cell_type": "code",
   "execution_count": 10,
   "metadata": {},
   "outputs": [
    {
     "name": "stdout",
     "output_type": "stream",
     "text": [
      "41/41 [==============================] - 1s 13ms/step\n"
     ]
    }
   ],
   "source": [
    "preds = model.predict(X_val)\n"
   ]
  },
  {
   "cell_type": "code",
   "execution_count": 17,
   "metadata": {},
   "outputs": [
    {
     "data": {
      "text/plain": [
       "(0.8595519523372432, 0.8752886836027713)"
      ]
     },
     "execution_count": 17,
     "metadata": {},
     "output_type": "execute_result"
    }
   ],
   "source": [
    "from sklearn.metrics import f1_score\n",
    "from sklearn.metrics import accuracy_score\n",
    "preds_argmaxed = np.apply_along_axis(np.argmax, 1, preds)\n",
    "f1_score(y_val,preds_argmaxed, average='weighted'), accuracy_score(y_val, preds_argmaxed) "
   ]
  },
  {
   "cell_type": "code",
   "execution_count": 12,
   "metadata": {},
   "outputs": [
    {
     "data": {
      "text/plain": [
       "array([[1010,    0,    0,    0,   17],\n",
       "       [   8,    0,    0,    0,    4],\n",
       "       [   9,    1,    6,    4,    6],\n",
       "       [  10,    0,    0,   17,   22],\n",
       "       [  70,    1,    0,   10,  104]], dtype=int64)"
      ]
     },
     "execution_count": 12,
     "metadata": {},
     "output_type": "execute_result"
    }
   ],
   "source": [
    "from sklearn.metrics import confusion_matrix\n",
    "\n",
    "confusion_matrix(y_val, preds_argmaxed)"
   ]
  },
  {
   "cell_type": "code",
   "execution_count": 31,
   "metadata": {},
   "outputs": [
    {
     "data": {
      "text/plain": [
       "62352"
      ]
     },
     "execution_count": 31,
     "metadata": {},
     "output_type": "execute_result"
    }
   ],
   "source": [
    "X_val_test = np.concatenate((X_val_test, X_val_test))\n",
    "len(X_val_test)"
   ]
  },
  {
   "cell_type": "code",
   "execution_count": 32,
   "metadata": {},
   "outputs": [
    {
     "name": "stdout",
     "output_type": "stream",
     "text": [
      "41/41 [==============================] - 1s 18ms/step\n",
      "CPU times: total: 2.05 s\n",
      "Wall time: 3.41 s\n"
     ]
    },
    {
     "data": {
      "text/plain": [
       "array([[9.9860829e-01, 1.9732315e-06, 7.0942173e-05, 2.1564708e-10,\n",
       "        1.3187268e-03],\n",
       "       [2.9691565e-03, 5.8956272e-07, 1.4427280e-04, 1.7292208e-04,\n",
       "        9.9671304e-01],\n",
       "       [9.9992442e-01, 7.6408981e-18, 3.0779989e-15, 4.9080889e-25,\n",
       "        7.5597112e-05],\n",
       "       ...,\n",
       "       [9.9016118e-01, 4.1163349e-07, 6.6306512e-07, 2.1525566e-09,\n",
       "        9.8377103e-03],\n",
       "       [9.6809107e-01, 1.6990883e-03, 1.9101940e-02, 2.8670104e-06,\n",
       "        1.1104958e-02],\n",
       "       [9.8776281e-01, 3.9758444e-05, 3.4636581e-05, 5.9099371e-08,\n",
       "        1.2162732e-02]], dtype=float32)"
      ]
     },
     "execution_count": 32,
     "metadata": {},
     "output_type": "execute_result"
    }
   ],
   "source": [
    "%%time\n",
    "model.predict(X_val)"
   ]
  },
  {
   "cell_type": "markdown",
   "metadata": {},
   "source": [
    "## Data Augmentation"
   ]
  },
  {
   "cell_type": "code",
   "execution_count": 20,
   "metadata": {},
   "outputs": [
    {
     "name": "stdout",
     "output_type": "stream",
     "text": [
      "solar\\2KW62C\n",
      "solar\\2PUTC6\n",
      "solar\\3GW0K4\n",
      "solar\\3HINQE\n",
      "solar\\4QPFM4\n",
      "solar\\55W5VY\n",
      "solar\\5I9LFY\n",
      "solar\\5PV7W2\n",
      "solar\\6LH73S\n",
      "solar\\8SWK8X\n",
      "solar\\9OZEOL\n",
      "solar\\AE7DYU\n",
      "solar\\BGAYTE\n",
      "solar\\C2EO4W\n",
      "solar\\CHS1VJ\n",
      "solar\\DL33FV\n",
      "solar\\ETDQL6\n",
      "solar\\F0KOY0\n",
      "solar\\GS6RL1\n",
      "solar\\H1OWXF\n",
      "solar\\J243RT\n",
      "solar\\JTGJZ5\n",
      "solar\\KT63D7\n",
      "solar\\KYFJOS\n",
      "solar\\NXFPK7\n",
      "solar\\OFYL3P\n",
      "solar\\OTQF8W\n",
      "solar\\RPZNXZ\n",
      "solar\\S10UHC\n",
      "solar\\TOMNU9\n",
      "solar\\UO3T1I\n",
      "solar\\UO6VM6\n",
      "solar\\VMGEOX\n",
      "solar\\XMYG4S\n",
      "solar\\YNA5KS\n",
      "solar\\Z1ED0G\n",
      "solar\\ZKE70N\n",
      "ponds\\2DJK4I\n",
      "ponds\\81H8S5\n",
      "ponds\\AG0B66\n",
      "ponds\\C6KH5X\n",
      "ponds\\FYVAQ8\n",
      "ponds\\ICCE3B\n",
      "ponds\\JSHXCK\n",
      "ponds\\NHQAGS\n",
      "ponds\\W4XKKI\n",
      "trampoline\\02LHCT\n",
      "trampoline\\06S4JA\n",
      "trampoline\\0BO2WG\n",
      "trampoline\\0KWC9E\n",
      "trampoline\\0PWZI1\n",
      "trampoline\\0UT826\n",
      "trampoline\\11X9IO\n",
      "trampoline\\136M2H\n",
      "trampoline\\17A812\n",
      "trampoline\\1BUEV5\n",
      "trampoline\\1CED4V\n",
      "trampoline\\1E9VX9\n",
      "trampoline\\1GGBLF\n",
      "trampoline\\1H2JXB\n",
      "trampoline\\262C7K\n",
      "trampoline\\2URTZG\n",
      "trampoline\\3CBKH8\n",
      "trampoline\\3JLVHW\n",
      "trampoline\\3VLWQS\n",
      "trampoline\\4EIGES\n",
      "trampoline\\5EACZA\n",
      "trampoline\\5LQPQP\n",
      "trampoline\\5TTNYH\n",
      "trampoline\\66KG55\n",
      "trampoline\\6MEG3V\n",
      "trampoline\\6UZW05\n",
      "trampoline\\74FZJC\n",
      "trampoline\\7ALXEI\n",
      "trampoline\\7LNBUM\n",
      "trampoline\\7LUGOD\n",
      "trampoline\\7QGKED\n",
      "trampoline\\861Y0S\n",
      "trampoline\\8J7VIB\n",
      "trampoline\\8YUVT2\n",
      "trampoline\\9GOEY4\n",
      "trampoline\\9OFDPZ\n",
      "trampoline\\9PIAIP\n",
      "trampoline\\9RDZUW\n",
      "trampoline\\A1UVIF\n",
      "trampoline\\A8MCBD\n",
      "trampoline\\AQ58IC\n",
      "trampoline\\AW0KCE\n",
      "trampoline\\B3FD3A\n",
      "trampoline\\BETSVM\n",
      "trampoline\\BONRJY\n",
      "trampoline\\BZRVBK\n",
      "trampoline\\CHSA3J\n",
      "trampoline\\D0K88B\n",
      "trampoline\\D19J56\n",
      "trampoline\\D944C0\n",
      "trampoline\\DE54OL\n",
      "trampoline\\DEV6P5\n",
      "trampoline\\DJ064I\n",
      "trampoline\\DO13SJ\n",
      "trampoline\\DYTP5V\n",
      "trampoline\\E02KY3\n",
      "trampoline\\E1375P\n",
      "trampoline\\E3C13N\n",
      "trampoline\\E3OL6Z\n",
      "trampoline\\E9I4W4\n",
      "trampoline\\EBJPR0\n",
      "trampoline\\ELPROD\n",
      "trampoline\\F9KGUF\n",
      "trampoline\\F9R1XM\n",
      "trampoline\\FU1TVS\n",
      "trampoline\\G1M9A2\n",
      "trampoline\\G57UZM\n",
      "trampoline\\G5QW26\n",
      "trampoline\\GELVBT\n",
      "trampoline\\GG5392\n",
      "trampoline\\GNQPVI\n",
      "trampoline\\HS67SW\n",
      "trampoline\\HSRFQ4\n",
      "trampoline\\HUEOB0\n",
      "trampoline\\HVRKYR\n",
      "trampoline\\I6KRD1\n",
      "trampoline\\IE6TO2\n",
      "trampoline\\IKCGJZ\n",
      "trampoline\\J86E0E\n",
      "trampoline\\KRZPHO\n",
      "trampoline\\KTJ8KB\n",
      "trampoline\\L3ER3C\n",
      "trampoline\\MNAZW6\n",
      "trampoline\\MT2FE2\n",
      "trampoline\\MZH9VE\n",
      "trampoline\\N1M4F5\n",
      "trampoline\\N5TVDE\n",
      "trampoline\\N9BS23\n",
      "trampoline\\NNEO1O\n",
      "trampoline\\NUDMH3\n",
      "trampoline\\O9OJUV\n",
      "trampoline\\OILCLE\n",
      "trampoline\\OUZOAV\n",
      "trampoline\\P3VQ5E\n",
      "trampoline\\PJP8YQ\n",
      "trampoline\\Q6YYO7\n",
      "trampoline\\QM3GEI\n",
      "trampoline\\R43B66\n",
      "trampoline\\R8D57O\n",
      "trampoline\\RAQBML\n",
      "trampoline\\RM67HL\n",
      "trampoline\\SC5457\n",
      "trampoline\\SEKQSE\n",
      "trampoline\\SQ5VZA\n",
      "trampoline\\T7SUEM\n",
      "trampoline\\TOULH8\n",
      "trampoline\\TPVFC7\n",
      "trampoline\\TPX8TH\n",
      "trampoline\\UCF9B1\n",
      "trampoline\\UCMSHC\n",
      "trampoline\\UR9IS8\n",
      "trampoline\\V89OKR\n",
      "trampoline\\VHDKC1\n",
      "trampoline\\VT0GJD\n",
      "trampoline\\VUCJ2D\n",
      "trampoline\\W2SJTV\n",
      "trampoline\\WA8NK7\n",
      "trampoline\\WLHCRY\n",
      "trampoline\\WMLUU5\n",
      "trampoline\\WNIG7J\n",
      "trampoline\\WWVOLK\n",
      "trampoline\\XCNAGC\n",
      "trampoline\\XEGG7Z\n",
      "trampoline\\XFWV6C\n",
      "trampoline\\XO7GAN\n",
      "trampoline\\XUDSRT\n",
      "trampoline\\XXUA3H\n",
      "trampoline\\Y12JQX\n",
      "trampoline\\YHUPXG\n",
      "trampoline\\YOGMM6\n",
      "trampoline\\YRKK94\n",
      "trampoline\\YUO70N\n",
      "trampoline\\Z08NUD\n",
      "trampoline\\Z0O0UB\n",
      "trampoline\\Z5DQAT\n",
      "trampoline\\Z5WDYL\n",
      "trampoline\\ZA093C\n",
      "trampoline\\ZBBIK0\n",
      "trampoline\\ZC3Y7H\n",
      "trampoline\\ZF7XNU\n",
      "pools\\4B37MU\n",
      "pools\\7M1F7D\n",
      "pools\\952IAI\n",
      "pools\\BQCJ8N\n",
      "pools\\F6XR5N\n",
      "pools\\FW07YM\n",
      "pools\\G6F70U\n",
      "pools\\GB5L8C\n",
      "pools\\L8BRK0\n",
      "pools\\LD1NL6\n",
      "pools\\MJWYQY\n",
      "pools\\N3UHT1\n",
      "pools\\Q3BAML\n",
      "pools\\S70POG\n",
      "pools\\V4YLAI\n",
      "pools\\V7MZSQ\n",
      "pools\\WZT40R\n",
      "pools\\Z3XD54\n",
      "pools\\ZHP15W\n",
      "pools\\ZOUND5\n"
     ]
    }
   ],
   "source": [
    "import PIL\n",
    "\n",
    "def rotateDirectory(directory,folder):\n",
    "\n",
    "    directory = directory + folder\n",
    "    \n",
    "    for file in os.scandir(directory):\n",
    "        filepath = os.fsdecode(file)      \t\n",
    "        pathname, extension = os.path.splitext(filepath)\n",
    "        \n",
    "        if(filepath.endswith(\".jpg\") or filepath.endswith(\".png\")):\n",
    "                img = Image.open(filepath)\n",
    "                img_180 = img.rotate(180, expand = 0)\n",
    "                img_90 = img.rotate(90, expand = 0)\n",
    "                img_270 = img.rotate(270, expand = 0)\n",
    "                pathname, extension = os.path.splitext(filepath)\n",
    "                \n",
    "                filename = str(pathname.split('/')[1])\n",
    "                print(str(filename))\n",
    "\n",
    "                img_180.save(\"training_patches2\" +\"/\" + filename + \"_180\" +\".png\")\n",
    "                img_90.save(\"training_patches2\" +\"/\" +filename + \"_90\" +\".png\")\n",
    "                img_270.save(\"training_patches2\" +\"/\" +filename + \"_270\" +\".png\")\n",
    "\n",
    "\n",
    "rotateDirectory(\"training_patches/\", \"solar\")\n",
    "rotateDirectory(\"training_patches/\", \"ponds\")\n",
    "rotateDirectory(\"training_patches/\", \"trampoline\")\n",
    "rotateDirectory(\"training_patches/\", \"pools\")"
   ]
  },
  {
   "cell_type": "markdown",
   "metadata": {},
   "source": [
    "## Model Selection"
   ]
  },
  {
   "cell_type": "markdown",
   "metadata": {},
   "source": [
    "## Model Training"
   ]
  },
  {
   "cell_type": "markdown",
   "metadata": {},
   "source": [
    "## Model Validation"
   ]
  },
  {
   "cell_type": "markdown",
   "metadata": {},
   "source": [
    "This section contains code that is needed to create predictions, save them and to print the training / validation images - either with or without the predicted bounding boxes."
   ]
  },
  {
   "cell_type": "code",
   "execution_count": 5,
   "metadata": {},
   "outputs": [],
   "source": [
    "from PIL import Image\n",
    "import matplotlib.pyplot as plt\n",
    "import cv2 as cv\n",
    "import pandas as pd\n",
    "from pathlib import Path"
   ]
  },
  {
   "cell_type": "code",
   "execution_count": 6,
   "metadata": {},
   "outputs": [],
   "source": [
    "def savePredictionToCsv(predictionDataframe: pd.DataFrame, filepath:str):\n",
    "    '''\n",
    "    Saves a dataframe containing the prediction for a single image to a CSV file.\n",
    "\n",
    "    @predictionDataFrame - The dataframe that contains the predictions and should be saved.\\n\n",
    "    @path - The path under which the CSV file should be saved.\n",
    "    @filename - The name under which the CSV file should be saved.\n",
    "    '''\n",
    "    predictionDataframe.to_csv(filepath, sep=\",\", index=False)\n",
    "\n",
    "def makePredictions(path:str):\n",
    "    '''\n",
    "    Traverses a folder that contains images for which predictions should be made.\\n\n",
    "    Creates a separate prediction CSV file for each image.\n",
    "\n",
    "    @path - The path containing the images for which predictions should be created.\n",
    "    '''\n",
    "    fake_predictions = {\"label\":[\"something\"], \"y_upper_left\": [100], \"x_upper_left\":[100], \"y_lower_right\":[356], \"x_lower_right\":[356]}\n",
    "    dataframe = pd.DataFrame(data=fake_predictions)\n",
    "    counter = 0\n",
    "    for file in os.scandir(path):\n",
    "        filepath = os.fsdecode(file)\n",
    "\n",
    "        if(not (filepath.endswith(\".jpg\") or filepath.endswith(\".png\")) or (\"annotated\" in filepath)):\n",
    "            continue\n",
    "        print(\"Making prediction for file: \", file.name) \n",
    "        savePredictionToCsv(dataframe, os.path.splitext(filepath)[0]+\".csv\")\n",
    "        counter += 1\n",
    "    print(\"Created \",counter, \" predictions.\")\n",
    "\n",
    "def saveOrPrintImages(path:str, print_to_output:bool=False, valBoundingBoxes: bool = False, thickness: int = 2, saveImagesPath:str=\"\"):\n",
    "    '''\n",
    "    Loads and saves all .jpg and .png files from the specified directory.\\n\n",
    "\n",
    "    @print - If set to True, will print the (annotated) images to the output (takes some time). Default value is False.\n",
    "\n",
    "    @valBoundingBoxes If set to true, the method will load the bounding box data from the csv files. The default for this is False.\\n\n",
    "  \n",
    "    @thickness parameter determines how thick the bounding boxes are drawn on the image (width of the line in pixels). The default value is 2.\\n\n",
    "\n",
    "    @saveImagesPath If specified will save the drawn images at the specified path.\n",
    "\n",
    "    '''\n",
    "    for file in os.scandir(path):\n",
    "        filepath = os.fsdecode(file)\n",
    "       \n",
    "\n",
    "        if(not (filepath.endswith(\".jpg\") or filepath.endswith(\".png\"))  or (\"annotated\" in filepath)):\n",
    "            continue\n",
    "\n",
    "        print(\"Saving / printing file: \",os.path.splitext(file.name)[0],\"_annotated.jpg\")\n",
    "        image = cv.imread(filepath) \n",
    "        \n",
    "        if(valBoundingBoxes):\n",
    "            image = addBoundingBoxesFromCsv(image, filepath, thickness)\n",
    "\n",
    "        image = cv.cvtColor(image, cv.COLOR_BGR2RGB)\n",
    "        # Convert to PIL format\n",
    "        image = Image.fromarray(image)\n",
    "        if(saveImagesPath):\n",
    "            image.save(saveImagesPath+\"/\"+ os.path.splitext(file.name)[0]+\"_annotated.jpg\", \"JPEG\")\n",
    "\n",
    "        if(print_to_output):\n",
    "            image.show()\n",
    "        \n",
    "\n",
    "def addBoundingBoxesFromCsv(image: cv.Mat, filepath:str, thickness: int) -> cv.Mat:\n",
    "    '''\n",
    "    Uses a csv file containing the predictions for a single image to draw bounding boxes into an image.\\n\n",
    "\n",
    "    Performs the changes in place and returns the modified image.\n",
    "    The image parameter specifies the image to be modified.\n",
    "    The filepath must contain the path of the csv file that contains the bounding box predictions for this image.\n",
    "    '''\n",
    "    csvPath = os.path.splitext(filepath)[0]+\".csv\"\n",
    "    boundingBoxesDataframe = pd.read_csv(csvPath, delimiter=\",\", header=0 )\n",
    "\n",
    "    for index,boundingBox in boundingBoxesDataframe.iterrows():\n",
    "        label = boundingBox[0]\n",
    "        start_point = (boundingBox[\"x_upper_left\"],boundingBox[\"y_upper_left\"])\n",
    "        end_point = (boundingBox[\"x_lower_right\"], boundingBox[\"y_lower_right\"])\n",
    "\n",
    "        color:str\n",
    "        \n",
    "        if(label== \"background\"):\n",
    "            color=(255,255,255) # (BGR) White\n",
    "        elif(label == \"pool\"):\n",
    "            color=(255,255,0) # (BGR) Cyan\n",
    "        elif(label == \"pond\"):\n",
    "            color=(0,128,0) # (BGR) Green\n",
    "        elif(label == \"solar\"):\n",
    "            color=(255,0,0) # (BGR) Blue\n",
    "        elif(label == \"trampoline\"):\n",
    "            color=(0,255,255) # (BGR) Yellow\n",
    "        else:\n",
    "            color=(180,105,255) # (BGR) Pink if no label present\n",
    "        image = cv.rectangle(image, start_point, end_point, color, thickness=thickness)\n",
    "    \n",
    "    return image"
   ]
  },
  {
   "cell_type": "markdown",
   "metadata": {},
   "source": [
    "## Model Validation (Unlabeled Training Data)"
   ]
  },
  {
   "cell_type": "markdown",
   "metadata": {},
   "source": [
    "This section prints the unlabeled training images along with bounding boxes that are retrieved from the corresponding CSV files."
   ]
  },
  {
   "cell_type": "code",
   "execution_count": 7,
   "metadata": {},
   "outputs": [
    {
     "name": "stdout",
     "output_type": "stream",
     "text": [
      "Making prediction for file:  0FRGJD.png\n",
      "Making prediction for file:  3938J9.png\n",
      "Making prediction for file:  6ATLJM.png\n",
      "Making prediction for file:  6FPS9I.png\n",
      "Making prediction for file:  73COYK.png\n",
      "Making prediction for file:  9Q69FH.png\n",
      "Making prediction for file:  B7DBOX.png\n",
      "Making prediction for file:  BFVATM.png\n",
      "Making prediction for file:  CM380U.png\n",
      "Making prediction for file:  DHX1Z3.png\n",
      "Making prediction for file:  FML5SH.png\n",
      "Making prediction for file:  G8MS91.png\n",
      "Making prediction for file:  JBN1LY.png\n",
      "Making prediction for file:  NNP6V0.png\n",
      "Making prediction for file:  P5L1VO.png\n",
      "Making prediction for file:  RXRIIW.png\n",
      "Making prediction for file:  S9CT2G.png\n",
      "Making prediction for file:  W0E9JC.png\n",
      "Making prediction for file:  W4XC08.png\n",
      "Making prediction for file:  XRZXKK.png\n",
      "Created  20  predictions.\n",
      "Saving / printing file:  0FRGJD _annotated.jpg\n",
      "Saving / printing file:  3938J9 _annotated.jpg\n",
      "Saving / printing file:  6ATLJM _annotated.jpg\n",
      "Saving / printing file:  6FPS9I _annotated.jpg\n",
      "Saving / printing file:  73COYK _annotated.jpg\n",
      "Saving / printing file:  9Q69FH _annotated.jpg\n",
      "Saving / printing file:  B7DBOX _annotated.jpg\n",
      "Saving / printing file:  BFVATM _annotated.jpg\n",
      "Saving / printing file:  CM380U _annotated.jpg\n",
      "Saving / printing file:  DHX1Z3 _annotated.jpg\n",
      "Saving / printing file:  FML5SH _annotated.jpg\n",
      "Saving / printing file:  G8MS91 _annotated.jpg\n",
      "Saving / printing file:  JBN1LY _annotated.jpg\n",
      "Saving / printing file:  NNP6V0 _annotated.jpg\n",
      "Saving / printing file:  P5L1VO _annotated.jpg\n",
      "Saving / printing file:  RXRIIW _annotated.jpg\n",
      "Saving / printing file:  S9CT2G _annotated.jpg\n",
      "Saving / printing file:  W0E9JC _annotated.jpg\n",
      "Saving / printing file:  W4XC08 _annotated.jpg\n",
      "Saving / printing file:  XRZXKK _annotated.jpg\n"
     ]
    }
   ],
   "source": [
    "makePredictions(path=\"./data/unlabeled_training_data/\")\n",
    "saveOrPrintImages(path=\"./data/unlabeled_training_data/\", print_to_output=False, valBoundingBoxes=True,saveImagesPath=\"./data/unlabeled_training_data/\", thickness=5)"
   ]
  },
  {
   "cell_type": "markdown",
   "metadata": {},
   "source": [
    "## Printing the validation images"
   ]
  },
  {
   "cell_type": "markdown",
   "metadata": {},
   "source": [
    "This section prints the public test data images along with their respective predictions / bounding boxes."
   ]
  },
  {
   "cell_type": "code",
   "execution_count": 9,
   "metadata": {},
   "outputs": [
    {
     "name": "stdout",
     "output_type": "stream",
     "text": [
      "Saving / printing file:  DQIMQN _annotated.jpg\n",
      "Saving / printing file:  L7CT2I _annotated.jpg\n",
      "Saving / printing file:  UDPYYD _annotated.jpg\n"
     ]
    }
   ],
   "source": [
    "# Print images from the validation data and use the corresponding csv files to add bounding boxes of classified entities\n",
    "saveOrPrintImages(\"data/validation_data/\", print_to_output=False, valBoundingBoxes=True, thickness=5, saveImagesPath=\"./data/validation_data/\")"
   ]
  }
 ],
 "metadata": {
  "kernelspec": {
   "display_name": "Python 3 (ipykernel)",
   "language": "python",
   "name": "python3"
  },
  "language_info": {
   "codemirror_mode": {
    "name": "ipython",
    "version": 3
   },
   "file_extension": ".py",
   "mimetype": "text/x-python",
   "name": "python",
   "nbconvert_exporter": "python",
   "pygments_lexer": "ipython3",
   "version": "3.9.13"
  },
  "vscode": {
   "interpreter": {
    "hash": "42d0b2cc644fbce25fa0a6a7247f8e54001d73864bfcfc28e0e3085cc5506326"
   }
  }
 },
 "nbformat": 4,
 "nbformat_minor": 2
}

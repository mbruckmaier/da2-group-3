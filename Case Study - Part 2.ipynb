{
 "cells": [
  {
   "cell_type": "markdown",
   "metadata": {},
   "source": [
    "# Case Study Part 2"
   ]
  },
  {
   "cell_type": "markdown",
   "metadata": {},
   "source": [
    "## Todos\n",
    "\n",
    "- ~~Write Introduction~~\n",
    "- ~~Write Data formats~~\n",
    "- ~~Load data~~ \n",
    "- ~~Write function to print validation images~~\n",
    "- ~~Write function to add found boundaries to images~~\n",
    "- Write function to create predictions\n",
    "<br>\n",
    "\n",
    "**Ideas**\n",
    "- Data Augmentation: Shifting, rotating and so on to increase amount of training data"
   ]
  },
  {
   "cell_type": "markdown",
   "metadata": {},
   "source": [
    "## Introduction"
   ]
  },
  {
   "cell_type": "markdown",
   "metadata": {},
   "source": [
    "For one of their projects an insurance company wants to get an estimate of the assets of their clients. For this they want to scan satellite images for four different objects: ponds, pools, photovoltaic systems and trampolines.\n",
    "\n",
    "### Available data\n",
    "To solve the task the following data are available.\n",
    "\n",
    "**Training data**\n",
    "<br>\n",
    "The training data consist of five different groups. In the beginning the data themselves are not labels (as in labeled and already in a dataframe form). They are just .png and .jpg files in different subfolders. All training images are of size 256x256 pixels. The following five groups are available:\n",
    "- Trampoline images: 140 images that contain a trampoline.\n",
    "- Pond images: 9 images that contain a pond.\n",
    "- Pool images: 20 images that contain a pool.\n",
    "- Solar images: 37 images that contain a photovoltaic system.\n",
    "- Background images: 3110 images that do not contain any of the above-mentioned items.\n",
    "\n",
    "This sums up to 3316 labeled training patches. \n",
    "\n",
    "<br>\n",
    "\n",
    "**Unlabeled training data**\n",
    "<br>\n",
    "In addition to the training patches, 20 validation images are available. They are of size 8000x8000 each and can be used for the manual validation of an approach.\n",
    "\n",
    "<br>\n",
    "\n",
    "**Validation data**\n",
    "<br>\n",
    "The validation data set contains 3 images of size 8000x8000. In addition there is a csv file that contains the coordinates of an item and a surrounding bounding box of various items and their respective labels.\n",
    "Thus, one prediction should have the following shape (1,7) with column 1 as strings and the rest as integer values:\n",
    "|label|y_target|x_target|y_upper_left|x_upper_left|y_lower_right|x_lower_right\n",
    "|---|---|---|---|---|---|---|\n",
    "|trampoline|268|278|140|150|396|406|\n",
    "|...|\n",
    "\n",
    "<br>\n",
    "\n",
    "**Predictions** <br>\n",
    "A prediction should represent a bounding box around a target entity. One prediction consist of the label and the four coordinates that describe the bounding box. <br>\n",
    "<span style=\"color:red\">The bounding box must be of size 256 x 256</span>. <br>\n",
    "A prediction is considered correct if the predicted bounding box overlaps at least 50% with the ground truth bounding box. <br>\n",
    "This overlap is computed as the area of the intersection of the boxes divided by the union of the areas of the boxes: IoU = intersection_area / union_area:\n",
    "\n",
    "<img src=\"https://www.baeldung.com/wp-content/uploads/sites/4/2022/04/fig1.png\" alt=\"Intersection over Union for Object Detection | Baeldung on Computer Science\">\n",
    "\n",
    "Our predictions thus must each be of shape (1,5):\n",
    "|label|y_upper_left|x_upper_left|y_lower_right|x_lower_right\n",
    "|---|---|---|---|---|\n",
    "|trampoline|140|150|396|406|\n",
    "|...|\n"
   ]
  },
  {
   "cell_type": "markdown",
   "metadata": {},
   "source": [
    "## Data retrieval"
   ]
  },
  {
   "cell_type": "markdown",
   "metadata": {},
   "source": [
    "This section loads the training patches into a numpy array and creates the corresponding label vector.\n",
    "The result are X_train, X_val, y_train and y_val. \n",
    "\n",
    "The images are converted to RGB values, which is why there are 3 channels in the training data.\n",
    "\n",
    "The training data sets are of dimension (number_of_instances x height x width x 3 channels). \n",
    "The label vectors only have one dimension (number_of_instances)."
   ]
  },
  {
   "cell_type": "code",
   "execution_count": 2,
   "metadata": {},
   "outputs": [],
   "source": [
    "from PIL import Image\n",
    "import numpy as np\n",
    "import os\n",
    "import PIL"
   ]
  },
  {
   "cell_type": "code",
   "execution_count": 22,
   "metadata": {},
   "outputs": [],
   "source": [
    "def loadImagesToArray(path:str):\n",
    "    '''\n",
    "    Loads all .jpg and .png files from the specified directory.\\n\n",
    "    Each image will be converted into an array of size (height x width x channels).\\n\n",
    "    The return numpy array is of dimensions (numberOfImages x height x width x channels).\\n\n",
    "    '''\n",
    "    imagesArray = []\n",
    "\n",
    "    counter = 0\n",
    "    for file in os.scandir(path):\n",
    "        filepath = os.fsdecode(file)\n",
    "        if(filepath.endswith(\".jpg\") or filepath.endswith(\".png\")):\n",
    "                imgArray = np.array(Image.open(filepath))\n",
    "                imagesArray.append(imgArray)\n",
    "                counter += 1                  \n",
    "    return np.array(imagesArray)\n",
    "\n",
    "def loadTrainingDataAndLabels(folders, subdirectories):\n",
    "    '''\n",
    "    Loads the training data as numpy arrays and creates the corresponding labels.\\n\n",
    "    For this to work, the images should be under the folder <path> in separate subdirectories, one for each class.\\n\n",
    "    The labels will be inferred from the names of the subdirectories. \\n\n",
    "\n",
    "    Returns the training data as a numpy array with the dimensions (number_of_images x height x width x channels).\\n\n",
    "    Returns the labels as a numpy array with the dimensions (number_of_images).\n",
    "    '''\n",
    "\n",
    "    final_data = []\n",
    "    final_labels = []\n",
    "\n",
    "    for folder in folders:\n",
    "\n",
    "        training_data = []\n",
    "        labels = []\n",
    "\n",
    "        for directory in subdirectories:\n",
    "            images_array = loadImagesToArray(os.path.join(folder, directory))\n",
    "            training_data.extend(images_array)\n",
    "\n",
    "            labels.extend(np.full(len(images_array), directory))\n",
    "        \n",
    "        \n",
    "        training_data_array = np.array(training_data)\n",
    "        labels_array = np.array(labels)\n",
    "        print(\"Shape of training_data array: \", training_data_array.shape)\n",
    "        print(\"Shape of labels array: \", labels_array.shape)\n",
    "        final_data.extend(training_data_array)\n",
    "        final_labels.extend(labels_array)\n",
    "\n",
    "\n",
    "    final_training_data_array = np.array(final_data)\n",
    "    print(\"Shape of final training_data: \", final_training_data_array.shape)\n",
    "    final_labels_array = np.array(final_labels)\n",
    "    print(\"Shape of final labels: \", final_labels_array.shape)\n",
    "    \n",
    "\n",
    "    \n",
    "    return final_training_data_array, final_labels_array\n",
    "    "
   ]
  },
  {
   "cell_type": "code",
   "execution_count": 24,
   "metadata": {},
   "outputs": [
    {
     "name": "stdout",
     "output_type": "stream",
     "text": [
      "Shape of training_data array:  (3316, 256, 256, 3)\n",
      "Shape of labels array:  (3316,)\n",
      "Shape of training_data array:  (618, 256, 256, 3)\n",
      "Shape of labels array:  (618,)\n",
      "Shape of training_data array:  (206, 256, 256, 3)\n",
      "Shape of labels array:  (206,)\n",
      "Shape of training_data array:  (206, 256, 256, 3)\n",
      "Shape of labels array:  (206,)\n",
      "Shape of final training_data:  (4346, 256, 256, 3)\n",
      "Shape of final labels:  (4346,)\n"
     ]
    }
   ],
   "source": [
    "training_data, labels = loadTrainingDataAndLabels([\"training_patches/\",\"training_patches_rotation/\", \"training_patches_brightnessdown/\", \"training_patches_brightnessup/\"],\n",
    " [\"background\", \"ponds\", \"pools\", \"solar\", \"trampoline\"])\n"
   ]
  },
  {
   "cell_type": "code",
   "execution_count": 25,
   "metadata": {},
   "outputs": [],
   "source": [
    "from sklearn import preprocessing\n",
    "\n",
    "le = preprocessing.LabelEncoder()\n",
    "le.fit(labels)\n",
    "labels_categorical = le.transform(labels)"
   ]
  },
  {
   "cell_type": "code",
   "execution_count": 26,
   "metadata": {},
   "outputs": [],
   "source": [
    "from sklearn.model_selection import train_test_split\n",
    "\n",
    "X_train, X_val, y_train, y_val = train_test_split(training_data, labels_categorical, test_size=0.33, random_state=1, stratify=labels)"
   ]
  },
  {
   "cell_type": "markdown",
   "metadata": {},
   "source": [
    "## Data Augmentation"
   ]
  },
  {
   "cell_type": "markdown",
   "metadata": {},
   "source": [
    "## Model Selection"
   ]
  },
  {
   "cell_type": "code",
   "execution_count": 27,
   "metadata": {},
   "outputs": [
    {
     "data": {
      "text/plain": [
       "array([[0, 0, 0, 0, 1],\n",
       "       [0, 0, 0, 1, 0],\n",
       "       [0, 0, 1, 0, 0],\n",
       "       [0, 1, 0, 0, 0],\n",
       "       [1, 0, 0, 0, 0]], dtype=int8)"
      ]
     },
     "execution_count": 27,
     "metadata": {},
     "output_type": "execute_result"
    }
   ],
   "source": [
    "from tensorflow.keras.utils import to_categorical\n",
    "y_train = to_categorical(y_train, dtype=\"int8\")\n",
    "np.unique(y_train, axis=0)\n"
   ]
  },
  {
   "cell_type": "code",
   "execution_count": 28,
   "metadata": {},
   "outputs": [
    {
     "name": "stdout",
     "output_type": "stream",
     "text": [
      "Model: \"sequential\"\n",
      "_________________________________________________________________\n",
      "Layer (type)                 Output Shape              Param #   \n",
      "=================================================================\n",
      "conv2d (Conv2D)              (None, 256, 256, 10)      280       \n",
      "_________________________________________________________________\n",
      "max_pooling2d (MaxPooling2D) (None, 128, 128, 10)      0         \n",
      "_________________________________________________________________\n",
      "flatten (Flatten)            (None, 163840)            0         \n",
      "_________________________________________________________________\n",
      "dense (Dense)                (None, 20)                3276820   \n",
      "_________________________________________________________________\n",
      "dense_1 (Dense)              (None, 20)                420       \n",
      "_________________________________________________________________\n",
      "dense_2 (Dense)              (None, 5)                 105       \n",
      "=================================================================\n",
      "Total params: 3,277,625\n",
      "Trainable params: 3,277,625\n",
      "Non-trainable params: 0\n",
      "_________________________________________________________________\n"
     ]
    }
   ],
   "source": [
    "from tensorflow.keras.layers import InputLayer, Dense, Flatten, Conv2D, MaxPool2D\n",
    "from tensorflow import keras\n",
    "model = keras.models.Sequential()\n",
    "model.add(InputLayer(input_shape=(256,256,3)))\n",
    "model.add(Conv2D(filters=10, kernel_size=(3,3), strides=1, padding=\"same\", activation=\"relu\"))\n",
    "model.add(MaxPool2D(pool_size=(2,2)))\n",
    "model.add(Flatten())\n",
    "model.add(Dense(20, activation=\"relu\"))\n",
    "model.add(Dense(20, activation=\"relu\"))\n",
    "model.add(Dense(5, activation=\"softmax\"))\n",
    "\n",
    "model.summary()"
   ]
  },
  {
   "cell_type": "code",
   "execution_count": 29,
   "metadata": {},
   "outputs": [
    {
     "name": "stdout",
     "output_type": "stream",
     "text": [
      "Epoch 1/20\n",
      "34/41 [=======================>......] - ETA: 8s - loss: 487.5498 - accuracy: 0.5460 "
     ]
    }
   ],
   "source": [
    "model.compile(loss=\"categorical_crossentropy\", optimizer=\"adam\", metrics=[\"accuracy\"])\n",
    "\n",
    "\n",
    "history = model.fit(X_train, \n",
    "                    y_train, \n",
    "                    epochs=20,\n",
    "                    batch_size=64,\n",
    "                    validation_split=0.1,\n",
    "                   )\n",
    "\n",
    "\n"
   ]
  },
  {
   "cell_type": "code",
   "execution_count": 9,
   "metadata": {},
   "outputs": [
    {
     "data": {
      "text/plain": [
       "(0.3835446684127689, 0.9598173515981735)"
      ]
     },
     "execution_count": 9,
     "metadata": {},
     "output_type": "execute_result"
    }
   ],
   "source": [
    "preds = model.predict(X_val)\n",
    "from sklearn.metrics import f1_score\n",
    "from sklearn.metrics import accuracy_score\n",
    "preds_argmaxed = np.apply_along_axis(np.argmax, 1, preds)\n",
    "f1_score(y_val,preds_argmaxed, average='macro'), accuracy_score(y_val, preds_argmaxed) \n",
    "\n",
    "\n",
    "\n"
   ]
  },
  {
   "cell_type": "code",
   "execution_count": 10,
   "metadata": {},
   "outputs": [
    {
     "data": {
      "text/plain": [
       "array([[1027,    0,    0,    0,    0],\n",
       "       [   1,    0,    0,    0,    2],\n",
       "       [   3,    0,    0,    0,    4],\n",
       "       [   2,    0,    1,    3,    6],\n",
       "       [  23,    0,    2,    0,   21]])"
      ]
     },
     "execution_count": 10,
     "metadata": {},
     "output_type": "execute_result"
    }
   ],
   "source": [
    "\n",
    "\n",
    "from sklearn.metrics import confusion_matrix\n",
    "\n",
    "confusion_matrix(y_val, preds_argmaxed)\n",
    "\n"
   ]
  },
  {
   "cell_type": "markdown",
   "metadata": {},
   "source": [
    "## Model Training"
   ]
  },
  {
   "cell_type": "code",
   "execution_count": null,
   "metadata": {},
   "outputs": [],
   "source": []
  },
  {
   "cell_type": "markdown",
   "metadata": {},
   "source": [
    "## Model Validation"
   ]
  },
  {
   "cell_type": "markdown",
   "metadata": {},
   "source": [
    "This section contains code that is needed to create predictions, save them and to print the training / validation images - either with or without the predicted bounding boxes."
   ]
  },
  {
   "cell_type": "code",
   "execution_count": 12,
   "metadata": {},
   "outputs": [],
   "source": [
    "from tensorflow import keras\n",
    "from PIL import Image\n",
    "from keras.applications.inception_v3 import preprocess_input\n",
    "from keras import Model\n",
    "import time\n",
    "import pandas as pd"
   ]
  },
  {
   "cell_type": "code",
   "execution_count": 13,
   "metadata": {},
   "outputs": [],
   "source": [
    "def savePredictionToCsv(predictionDataframe: pd.DataFrame, filepath:str):\n",
    "    '''\n",
    "    Saves a dataframe containing the prediction for a single image to a CSV file.\n",
    "\n",
    "    @predictionDataFrame - The dataframe that contains the predictions and should be saved.\\n\n",
    "    @path - The path under which the CSV file should be saved.\n",
    "    @filename - The name under which the CSV file should be saved.\n",
    "    '''\n",
    "    #filepath =  os.path.splitext(filepath)[2]+\"_prediction.csv\"\n",
    "    filepath = \"./03_validation_results/\" +str(filepath.split('/')[2]) +\"_prediction.csv\"\n",
    "    predictionDataframe.to_csv(filepath, sep=\",\", index=False)\n",
    "\n",
    "\n",
    "\n",
    "def makePredictions(path:str, convnet:keras.Model, stepSize:int, windowSize):\n",
    "    '''\n",
    "    Traverses a folder that contains images for which predictions should be made.\\n\n",
    "    Creates a separate prediction CSV file for each image.\n",
    "\n",
    "    @path - The path containing the images for which predictions should be created.\n",
    "    '''\n",
    "\n",
    "    # For each image in path\n",
    "        # Perform sliding Window approach\n",
    "            # For each slide\n",
    "            # Store x_upper_left, y_upper_left, x_lower_right, y_lower_right\n",
    "            # Run image through convnet\n",
    "            # Run classifier on output\n",
    "            # If prediction != 'background'\n",
    "            # Store prediction in temp array\n",
    "        # Run non-max suppression to filter predictions\n",
    "        # Store predictions in csv\n",
    "    for file in os.scandir(path):\n",
    "        filepath = os.fsdecode(file)\n",
    "        \n",
    "        if((\"annotated\" in filepath) or not (filepath.endswith(\".jpg\") or filepath.endswith(\".png\"))):\n",
    "           continue\n",
    "        \n",
    "        createPredictionsForImage(filepath=filepath, convnet=convnet, stepSize=stepSize, windowSize=windowSize)\n",
    "\n",
    "\n",
    "def createPredictionsForImage(filepath:str, convnet:keras.Model, stepSize:int, windowSize):\n",
    "    '''\n",
    "    Creates the prediction CSV for one image.\n",
    "    '''\n",
    "\n",
    "    print(\"\\nCreating predictions for file: \", filepath)\n",
    "    create_predictions_start_time = time.time()\n",
    "    #image = Image.open(filepath)\n",
    "    imgArray = np.array(Image.open(filepath))\n",
    "    \n",
    "    patch_coordinates= []  \n",
    "    preprocessed_patches = []\n",
    "    counter = 0\n",
    "    patch_preprocessing_start_time = time.time()\n",
    "    \n",
    "    print(\"Starting sliding window to create patches of size: \", windowSize[0], \"x\", windowSize[1], \".\")\n",
    "    for(x,y,patch) in sliding_window(imageArray=imgArray, stepSize=stepSize, windowSize=windowSize):\n",
    "        if counter > 0 and counter%10000 == 0:\n",
    "            print(\"Still processing, reached patch\", counter)\n",
    "            print(\"Execution time for the last 10.000 patches: \", time.time()-patch_preprocessing_start_time, \" seconds.\")\n",
    "            patch_preprocessing_start_time = time.time()\n",
    "            print(\"Processing continues...\")\n",
    "        \n",
    "        # Skip if the size of a patch doesn't match the specified windowSize\n",
    "        if patch.shape[0] != windowSize[0] or patch.shape[1] != windowSize[1]:\n",
    "            continue\n",
    "    \n",
    "        # Save coordinates which are needed for a prediction\n",
    "        x_upper_left = x\n",
    "        y_upper_left = y\n",
    "        x_lower_right = x+windowSize[0]\n",
    "        y_lower_right = y+windowSize[1]\n",
    "        x_center = x+128\n",
    "        y_center = y+128\n",
    "\n",
    "        # Run the patch through the classification\n",
    "        preprocessed_patch = preprocess_input(patch)\n",
    "        preprocessed_patches.append(preprocessed_patch)\n",
    "        patch_coordinates.append([y_upper_left, x_upper_left, y_lower_right, x_lower_right])\n",
    "        counter +=1\n",
    "    \n",
    "    print(\"Finished preprocessing of the patches.\")\n",
    "    preprocessed_patches = np.array(preprocessed_patches)\n",
    "    patch_coordinates = np.array(patch_coordinates)\n",
    "    print(\"Shape of preprocessed patches: \", preprocessed_patches.shape)\n",
    "    print(\"Shape of patch coordinates: \", patch_coordinates.shape, \"\\n\")\n",
    "\n",
    "    # Get all predictions\n",
    "    print(\"Running patches through ConvNet and using classifier to predict labels...\")\n",
    "    prediction_start_time = time.time()\n",
    "    predicted_labels_encoded = pd.DataFrame(convnet.predict(preprocessed_patches), columns=[\"background\", \"ponds\", \"pools\", \"solar\", \"trampoline\"])\n",
    "    predicted_labels= predicted_labels_encoded.idxmax(1)\n",
    "    \n",
    "    print(\"Finished predictions, execution time: \", time.time()-prediction_start_time, \" seconds.\\n\")\n",
    "    \n",
    "    print(\"Shape of predicted_labels: \", labels.shape)\n",
    "    print(\"Shape of patch_coordinates: \", patch_coordinates.shape)\n",
    "\n",
    "    # Combining patch coordinates and predictions\n",
    "    predictions_array=np.c_[predicted_labels, patch_coordinates]\n",
    "\n",
    "    print(\"Shape of combined predictions array (unfiltered): \", predictions_array.shape)\n",
    "\n",
    "    predictions_dataframe = pd.DataFrame(data=predictions_array, columns=[\"label\",\"y_upper_left\", \"x_upper_left\", \"y_lower_right\", \"x_lower_right\"])\n",
    "    # Filter all predictions that contain the label \"background\"\n",
    "    predictions_dataframe = predictions_dataframe[predictions_dataframe.label != \"background\"]\n",
    "    print(\"Description of the predictions dataframe: \", predictions_dataframe.describe())\n",
    "\n",
    "    # Save prediction to csv\n",
    "    savePredictionToCsv(predictionDataframe=predictions_dataframe, filepath=filepath)\n",
    "    print(\"Saved predictions for file: \", filepath, \"\\n\")\n",
    "    print(\"Elapsed time: \", time.time()-create_predictions_start_time, \" seconds.\\n\")\n",
    "\n",
    "    \n",
    "def sliding_window(imageArray, stepSize:int, windowSize=(256,256)):\n",
    "    for y in range(0, imageArray.shape[0], stepSize):\n",
    "\t    for x in range(0, imageArray.shape[1], stepSize):\n",
    "\t\t\t# yield the current window\n",
    "\t\t    yield (x, y, imageArray[y:y + windowSize[1], x:x + windowSize[0]])"
   ]
  },
  {
   "cell_type": "code",
   "execution_count": 14,
   "metadata": {},
   "outputs": [
    {
     "name": "stdout",
     "output_type": "stream",
     "text": [
      "\n",
      "Creating predictions for file:  ./02_validation_data_images/DQIMQN.png\n",
      "Starting sliding window to create patches of size:  256 x 256 .\n",
      "Still processing, reached patch 10000\n",
      "Execution time for the last 10.000 patches:  5.949496746063232  seconds.\n",
      "Processing continues...\n",
      "Finished preprocessing of the patches.\n",
      "Shape of preprocessed patches:  (14884, 256, 256, 3)\n",
      "Shape of patch coordinates:  (14884, 4) \n",
      "\n",
      "Running patches through ConvNet and using classifier to predict labels...\n",
      "Finished predictions, execution time:  128.66817092895508  seconds.\n",
      "\n",
      "Shape of predicted_labels:  (3316,)\n",
      "Shape of patch_coordinates:  (14884, 4)\n",
      "Shape of combined predictions array (unfiltered):  (14884, 5)\n",
      "Description of the predictions dataframe:          label  y_upper_left  x_upper_left  y_lower_right  x_lower_right\n",
      "count     118           118           118            118            118\n",
      "unique      2            75            65             75             65\n",
      "top     pools          2560          2944           2816           3200\n",
      "freq      113             6             6              6              6\n",
      "Saved predictions for file:  ./02_validation_data_images/DQIMQN.png \n",
      "\n",
      "Elapsed time:  213.97814011573792  seconds.\n",
      "\n"
     ]
    }
   ],
   "source": [
    "#Execute Cell\n",
    "makePredictions(\"./02_validation_data_images/\", convnet=model, stepSize=64, windowSize=(256,256))"
   ]
  },
  {
   "cell_type": "code",
   "execution_count": 20,
   "metadata": {},
   "outputs": [],
   "source": [
    "\n",
    "from PIL import Image\n",
    "import matplotlib.pyplot as plt\n",
    "import cv2 as cv\n",
    "import pandas as pd\n",
    "from pathlib import Path\n",
    "\n"
   ]
  },
  {
   "cell_type": "code",
   "execution_count": 25,
   "metadata": {},
   "outputs": [],
   "source": [
    "\n",
    "def saveOrPrintImages(path:str, print_to_output:bool=False, valBoundingBoxes: bool = False, thickness: int = 2, saveImagesPath:str=\"\"):\n",
    "    '''\n",
    "    Loads and saves all .jpg and .png files from the specified directory.\\n\n",
    "\n",
    "    @print - If set to True, will print the (annotated) images to the output (takes some time). Default value is False.\n",
    "\n",
    "    @valBoundingBoxes If set to true, the method will load the bounding box data from the csv files. The default for this is False.\\n\n",
    "  \n",
    "    @thickness parameter determines how thick the bounding boxes are drawn on the image (width of the line in pixels). The default value is 2.\\n\n",
    "\n",
    "    @saveImagesPath If specified will save the drawn images at the specified path.\n",
    "\n",
    "    '''\n",
    "    for file in os.scandir(path):\n",
    "        filepath = os.fsdecode(file)\n",
    "       \n",
    "\n",
    "        if(not (filepath.endswith(\".jpg\") or filepath.endswith(\".png\"))  or (\"annotated\" in filepath)):\n",
    "            continue\n",
    "\n",
    "        print(\"Saving / printing file: \",os.path.splitext(file.name)[0],\"_annotated.jpg\")\n",
    "        image = cv.imread(filepath) \n",
    "        \n",
    "        if(valBoundingBoxes):\n",
    "            image = addBoundingBoxesFromCsv(image, filepath, thickness)\n",
    "\n",
    "        image = cv.cvtColor(image, cv.COLOR_BGR2RGB)\n",
    "        # Convert to PIL format\n",
    "        image = Image.fromarray(image)\n",
    "        if(saveImagesPath):\n",
    "            image.save(saveImagesPath+\"/\"+ os.path.splitext(file.name)[0]+\"_annotated.jpg\", \"JPEG\")\n",
    "\n",
    "        if(print_to_output):\n",
    "            image.show()\n",
    "        \n",
    "\n",
    "def addBoundingBoxesFromCsv(image: cv.Mat, filepath:str, thickness: int) -> cv.Mat:\n",
    "    '''\n",
    "    Uses a csv file containing the predictions for a single image to draw bounding boxes into an image.\\n\n",
    "\n",
    "    Performs the changes in place and returns the modified image.\n",
    "    The image parameter specifies the image to be modified.\n",
    "    The filepath must contain the path of the csv file that contains the bounding box predictions for this image.\n",
    "    '''\n",
    "    csvPath = os.path.splitext(filepath)[0]+\"_suppressed.csv\"\n",
    "    boundingBoxesDataframe = pd.read_csv(csvPath, delimiter=\",\", header=0 )\n",
    "\n",
    "    for index,boundingBox in boundingBoxesDataframe.iterrows():\n",
    "        label = boundingBox[\"label\"]\n",
    "        start_point = (int(boundingBox[\"x_upper_left\"]),int(boundingBox[\"y_upper_left\"]))\n",
    "        end_point = (int(boundingBox[\"x_lower_right\"]), int(boundingBox[\"y_lower_right\"]))\n",
    "\n",
    "        color:str\n",
    "        \n",
    "        if(label== \"background\"):\n",
    "            color=(255,255,255) # (BGR) White\n",
    "        elif(label == \"pool\"):\n",
    "            color=(255,255,0) # (BGR) Cyan\n",
    "        elif(label == \"pond\"):\n",
    "            color=(0,128,0) # (BGR) Green\n",
    "        elif(label == \"solar\"):\n",
    "            color=(255,0,0) # (BGR) Blue\n",
    "        elif(label == \"trampoline\"):\n",
    "            color=(0,255,255) # (BGR) Yellow\n",
    "        else:\n",
    "            color=(180,105,255) # (BGR) Pink if no label present\n",
    "        image = cv.rectangle(image, start_point, end_point, color, thickness=thickness)\n",
    "    \n",
    "    return image"
   ]
  },
  {
   "cell_type": "code",
   "execution_count": 26,
   "metadata": {},
   "outputs": [],
   "source": [
    "saveOrPrintImages(path=\"./03_validation_results/\", print_to_output=False, valBoundingBoxes=True,saveImagesPath=\"./03_validation_results/\", thickness=5)"
   ]
  },
  {
   "cell_type": "code",
   "execution_count": 28,
   "metadata": {},
   "outputs": [
    {
     "name": "stdout",
     "output_type": "stream",
     "text": [
      "Performing non-max suppresion on file  03_validation_results/DQIMQN.png_prediction.csv\n",
      "OriginalPredictions shape:  [  nan   64. 6400.  320. 6656.]\n",
      "Shape of coordinates:  (118, 4)\n",
      "Shape of labels:  (118,)\n",
      "(0,)\n",
      "[]\n",
      "Shape of selected labels:  (0,)\n",
      "Shape of selected boxes:  (0, 4)\n",
      "Empty DataFrame\n",
      "Columns: [label, y_upper_left, x_upper_left, y_lower_right, x_lower_right]\n",
      "Index: []\n"
     ]
    }
   ],
   "source": [
    "import tensorflow as tf\n",
    "import numpy as np\n",
    "\n",
    "def nonMaxSuppressBoundingBoxes(path:str, iou_threshold:float, score_threshold:float):\n",
    "    '''\n",
    "    Loads the csv files from the path and performs the non-max-suppression to reduce the amount of predictions to one per detected object.\\n\n",
    "    '''\n",
    "\n",
    "    for file in os.scandir(path):\n",
    "        filepath = os.fsdecode(file)\n",
    "        \n",
    "        if(not(filepath.endswith(\".csv\")) or (\"suppressed\" in filepath)):\n",
    "           continue\n",
    "\n",
    "        print(\"Performing non-max suppresion on file \", filepath)\n",
    "        originalPredictions = np.genfromtxt(filepath, delimiter=',', skip_header=1)\n",
    "        originalPredictions_df= pd.read_csv(filepath)\n",
    "        print(\"OriginalPredictions shape: \", originalPredictions[0])\n",
    "\n",
    "        labels = originalPredictions_df[\"label\"]\n",
    "        coordinates = originalPredictions[:, 1:5].astype(int)\n",
    "        scores = originalPredictions[:,0]\n",
    "        print(\"Shape of coordinates: \", coordinates.shape)\n",
    "        print(\"Shape of labels: \", scores.shape)\n",
    "       \n",
    "        selectedBoxes_indices = tf.image.non_max_suppression(boxes=coordinates, scores=scores, max_output_size=200, iou_threshold=iou_threshold, score_threshold=score_threshold )\n",
    "        print(selectedBoxes_indices.shape)\n",
    "\n",
    "        selected_boxes = tf.gather(coordinates, selectedBoxes_indices).numpy()\n",
    "        selected_labels = np.array([x.numpy().decode() for x in tf.gather(labels, selectedBoxes_indices)])\n",
    "        selected_scores = tf.gather(scores, selectedBoxes_indices).numpy()\n",
    "        print(selected_labels)\n",
    "        print(\"Shape of selected labels: \", selected_labels.shape)\n",
    "        print(\"Shape of selected boxes: \", selected_boxes.shape)\n",
    "\n",
    "        predictions = pd.DataFrame(np.c_[selected_labels, selected_boxes], columns=[\"label\", \"y_upper_left\", \"x_upper_left\", \"y_lower_right\", \"x_lower_right\"])\n",
    "        print(predictions)\n",
    "        new_filepath =  os.path.splitext(filepath)[0]+\"_suppressed.csv\"\n",
    "        predictions.to_csv(new_filepath, sep=\",\", index=False)\n",
    "        \n",
    "\n",
    "nonMaxSuppressBoundingBoxes(\"03_validation_results/\", iou_threshold=0.5, score_threshold=0.75)\n"
   ]
  },
  {
   "cell_type": "markdown",
   "metadata": {},
   "source": [
    "## Model Validation (Unlabeled Training Data)"
   ]
  },
  {
   "cell_type": "markdown",
   "metadata": {},
   "source": [
    "This section prints the unlabeled training images along with bounding boxes that are retrieved from the corresponding CSV files."
   ]
  },
  {
   "cell_type": "markdown",
   "metadata": {},
   "source": [
    "## Printing the validation images"
   ]
  },
  {
   "cell_type": "markdown",
   "metadata": {},
   "source": [
    "This section prints the public test data images along with their respective predictions / bounding boxes."
   ]
  }
 ],
 "metadata": {
  "kernelspec": {
   "display_name": "Python 3.8.2 ('geo_py')",
   "language": "python",
   "name": "python3"
  },
  "language_info": {
   "codemirror_mode": {
    "name": "ipython",
    "version": 3
   },
   "file_extension": ".py",
   "mimetype": "text/x-python",
   "name": "python",
   "nbconvert_exporter": "python",
   "pygments_lexer": "ipython3",
   "version": "3.8.2"
  },
  "orig_nbformat": 4,
  "vscode": {
   "interpreter": {
    "hash": "0fb245b132a2be47283fe5f25201c6b65dd2f54345d845219426bdf4f2ce9823"
   }
  }
 },
 "nbformat": 4,
 "nbformat_minor": 2
}

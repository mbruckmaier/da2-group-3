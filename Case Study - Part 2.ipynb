{
 "cells": [
  {
   "cell_type": "markdown",
   "metadata": {},
   "source": [
    "# Case Study Part 2"
   ]
  },
  {
   "cell_type": "markdown",
   "metadata": {},
   "source": [
    "## Todos\n",
    "\n",
    "- ~~Write Introduction~~\n",
    "- ~~Write Data formats~~\n",
    "- ~~Load data~~ \n",
    "- ~~Write function to print validation images~~\n",
    "- ~~Write function to add found boundaries to images~~\n",
    "- Write function to create predictions\n",
    "<br>\n",
    "\n",
    "**Ideas**\n",
    "- Data Augmentation: Shifting, rotating and so on to increase amount of training data"
   ]
  },
  {
   "cell_type": "markdown",
   "metadata": {},
   "source": [
    "## Introduction"
   ]
  },
  {
   "cell_type": "markdown",
   "metadata": {},
   "source": [
    "For one of their projects an insurance company wants to get an estimate of the assets of their clients. For this they want to scan satellite images for four different objects: ponds, pools, photovoltaic systems and trampolines.\n",
    "\n",
    "### Available data\n",
    "To solve the task the following data are available.\n",
    "\n",
    "**Training data**\n",
    "<br>\n",
    "The training data consist of five different groups. In the beginning the data themselves are not labels (as in labeled and already in a dataframe form). They are just .png and .jpg files in different subfolders. All training images are of size 256x256 pixels. The following five groups are available:\n",
    "- Trampoline images: 140 images that contain a trampoline.\n",
    "- Pond images: 9 images that contain a pond.\n",
    "- Pool images: 20 images that contain a pool.\n",
    "- Solar images: 37 images that contain a photovoltaic system.\n",
    "- Background images: 3110 images that do not contain any of the above-mentioned items.\n",
    "\n",
    "This sums up to 3316 labeled training patches. \n",
    "\n",
    "<br>\n",
    "\n",
    "**Unlabeled training data**\n",
    "<br>\n",
    "In addition to the training patches, 20 validation images are available. They are of size 8000x8000 each and can be used for the manual validation of an approach.\n",
    "\n",
    "<br>\n",
    "\n",
    "**Validation data**\n",
    "<br>\n",
    "The validation data set contains 3 images of size 8000x8000. In addition there is a csv file that contains the coordinates of an item and a surrounding bounding box of various items and their respective labels.\n",
    "Thus, one prediction should have the following shape (1,7) with column 1 as strings and the rest as integer values:\n",
    "|label|y_target|x_target|y_upper_left|x_upper_left|y_lower_right|x_lower_right\n",
    "|---|---|---|---|---|---|---|\n",
    "|trampoline|268|278|140|150|396|406|\n",
    "|...|\n",
    "\n",
    "<br>\n",
    "\n",
    "**Predictions** <br>\n",
    "A prediction should represent a bounding box around a target entity. One prediction consist of the label and the four coordinates that describe the bounding box. <br>\n",
    "<span style=\"color:red\">The bounding box must be of size 256 x 256</span>. <br>\n",
    "A prediction is considered correct if the predicted bounding box overlaps at least 50% with the ground truth bounding box. <br>\n",
    "This overlap is computed as the area of the intersection of the boxes divided by the union of the areas of the boxes: IoU = intersection_area / union_area:\n",
    "\n",
    "<img src=\"https://www.baeldung.com/wp-content/uploads/sites/4/2022/04/fig1.png\" alt=\"Intersection over Union for Object Detection | Baeldung on Computer Science\">\n",
    "\n",
    "Our predictions thus must each be of shape (1,5):\n",
    "|label|y_upper_left|x_upper_left|y_lower_right|x_lower_right\n",
    "|---|---|---|---|---|\n",
    "|trampoline|140|150|396|406|\n",
    "|...|\n"
   ]
  },
  {
   "cell_type": "markdown",
   "metadata": {},
   "source": [
    "## Data retrieval"
   ]
  },
  {
   "cell_type": "markdown",
   "metadata": {},
   "source": [
    "This section loads the training patches into a numpy array and creates the corresponding label vector.\n",
    "The result are X_train, X_val, y_train and y_val. \n",
    "\n",
    "The images are converted to RGB values, which is why there are 3 channels in the training data.\n",
    "\n",
    "The training data sets are of dimension (number_of_instances x height x width x 3 channels). \n",
    "The label vectors only have one dimension (number_of_instances)."
   ]
  },
  {
   "cell_type": "code",
   "execution_count": 1,
   "metadata": {},
   "outputs": [],
   "source": [
    "from PIL import Image\n",
    "import numpy as np\n",
    "import os\n",
    "import PIL"
   ]
  },
  {
   "cell_type": "code",
   "execution_count": 2,
   "metadata": {},
   "outputs": [],
   "source": [
    "def loadImagesToArray(path:str):\n",
    "    '''\n",
    "    Loads all .jpg and .png files from the specified directory.\\n\n",
    "    Each image will be converted into an array of size (height x width x channels).\\n\n",
    "    The return numpy array is of dimensions (numberOfImages x height x width x channels).\\n\n",
    "    '''\n",
    "    imagesArray = []\n",
    "\n",
    "    counter = 0\n",
    "    for file in os.scandir(path):\n",
    "        filepath = os.fsdecode(file)\n",
    "        if(filepath.endswith(\".jpg\") or filepath.endswith(\".png\")):\n",
    "                imgArray = np.array(Image.open(filepath))\n",
    "                imagesArray.append(imgArray)\n",
    "                counter += 1                  \n",
    "    return np.array(imagesArray)\n",
    "\n",
    "def loadTrainingDataAndLabels(path, subdirectories):\n",
    "    '''\n",
    "    Loads the training data as numpy arrays and creates the corresponding labels.\\n\n",
    "    For this to work, the images should be under the folder <path> in separate subdirectories, one for each class.\\n\n",
    "    The labels will be inferred from the names of the subdirectories. \\n\n",
    "\n",
    "    Returns the training data as a numpy array with the dimensions (number_of_images x height x width x channels).\\n\n",
    "    Returns the labels as a numpy array with the dimensions (number_of_images).\n",
    "    '''\n",
    "\n",
    "    training_data = []\n",
    "    labels = []\n",
    "\n",
    "    for directory in subdirectories:\n",
    "        images_array = loadImagesToArray(os.path.join(path, directory))\n",
    "        training_data.extend(images_array)\n",
    "\n",
    "        labels.extend(np.full(len(images_array), directory))\n",
    "\n",
    "    training_data_array = np.array(training_data)\n",
    "    print(\"Shape of training_data: \", training_data_array.shape)\n",
    "    labels_array = np.array(labels)\n",
    "    print(\"Shape of labels: \", labels_array.shape)\n",
    "    \n",
    "    return training_data_array, labels_array\n",
    "    "
   ]
  },
  {
   "cell_type": "code",
   "execution_count": 3,
   "metadata": {},
   "outputs": [
    {
     "name": "stdout",
     "output_type": "stream",
     "text": [
      "Shape of training_data:  (3316, 256, 256, 3)\n",
      "Shape of labels:  (3316,)\n"
     ]
    }
   ],
   "source": [
    "training_data, labels = loadTrainingDataAndLabels(\"training_patches/\", [\"background\", \"ponds\", \"pools\", \"solar\", \"trampoline\"])"
   ]
  },
  {
   "cell_type": "code",
   "execution_count": 14,
   "metadata": {},
   "outputs": [
    {
     "name": "stderr",
     "output_type": "stream",
     "text": [
      "/opt/anaconda3/envs/geo_py/lib/python3.8/site-packages/scipy/__init__.py:135: UserWarning: NumPy 1.16.5 or above is required for this version of SciPy (detected version 1.16.2)\n",
      "  warnings.warn(\"NumPy 1.16.5 or above is required for this version of \"\n"
     ]
    }
   ],
   "source": [
    "from sklearn.model_selection import train_test_split\n",
    "\n",
    "X_train, X_val, y_train, y_val = train_test_split(training_data, labels, test_size=0.33, random_state=1, stratify=labels)"
   ]
  },
  {
   "cell_type": "markdown",
   "metadata": {},
   "source": [
    "## Data Augmentation"
   ]
  },
  {
   "cell_type": "markdown",
   "metadata": {},
   "source": [
    "Rotation"
   ]
  },
  {
   "cell_type": "code",
   "execution_count": null,
   "metadata": {},
   "outputs": [],
   "source": [
    "import PIL\n",
    "\n",
    "def rotateDirectory(directory,folder):\n",
    "\n",
    "    directory = directory + folder\n",
    "    \n",
    "    for file in os.scandir(directory):\n",
    "        filepath = os.fsdecode(file)      \t\n",
    "        pathname, extension = os.path.splitext(filepath)\n",
    "        \n",
    "        if(filepath.endswith(\".jpg\") or filepath.endswith(\".png\")):\n",
    "                img = Image.open(filepath)\n",
    "                img_180 = img.rotate(180, expand = 0)\n",
    "                img_90 = img.rotate(90, expand = 0)\n",
    "                img_270 = img.rotate(270, expand = 0)\n",
    "                pathname, extension = os.path.splitext(filepath)\n",
    "                filename = str(pathname.split('/')[2])\n",
    "\n",
    "\n",
    "                img_180.save(\"training_patches2/\"+ folder +\"/\" + filename + \"_180\" +\".png\")\n",
    "                img_90.save(\"training_patches2/\"+ folder +\"/\" +filename + \"_90\" +\".png\")\n",
    "                img_270.save(\"training_patches2/\"+ folder +\"/\" +filename + \"_270\" +\".png\")\n",
    "\n",
    "\n",
    "rotateDirectory(\"training_patches/\", \"solar\")\n",
    "rotateDirectory(\"training_patches/\", \"ponds\")\n",
    "rotateDirectory(\"training_patches/\", \"trampoline\")\n",
    "rotateDirectory(\"training_patches/\", \"pools\")"
   ]
  },
  {
   "cell_type": "markdown",
   "metadata": {},
   "source": [
    "## Model Selection"
   ]
  },
  {
   "cell_type": "code",
   "execution_count": 4,
   "metadata": {},
   "outputs": [
    {
     "name": "stderr",
     "output_type": "stream",
     "text": [
      "/opt/anaconda3/envs/geo_py/lib/python3.8/site-packages/scipy/__init__.py:135: UserWarning: NumPy 1.16.5 or above is required for this version of SciPy (detected version 1.16.2)\n",
      "  warnings.warn(\"NumPy 1.16.5 or above is required for this version of \"\n"
     ]
    }
   ],
   "source": [
    "%matplotlib inline\n",
    "import matplotlib.pyplot as plt\n",
    "\n",
    "import tensorflow as tf\n",
    "tf.random.set_seed(42)\n",
    "from tensorflow import keras"
   ]
  },
  {
   "cell_type": "markdown",
   "metadata": {},
   "source": [
    "## Model Training"
   ]
  },
  {
   "cell_type": "code",
   "execution_count": null,
   "metadata": {},
   "outputs": [],
   "source": []
  },
  {
   "cell_type": "markdown",
   "metadata": {},
   "source": [
    "## Model Validation"
   ]
  },
  {
   "cell_type": "markdown",
   "metadata": {},
   "source": [
    "This section contains code that is needed to create predictions, save them and to print the training / validation images - either with or without the predicted bounding boxes."
   ]
  },
  {
   "cell_type": "code",
   "execution_count": 5,
   "metadata": {},
   "outputs": [],
   "source": [
    "from PIL import Image\n",
    "import matplotlib.pyplot as plt\n",
    "import cv2 as cv\n",
    "import pandas as pd\n",
    "from pathlib import Path"
   ]
  },
  {
   "cell_type": "code",
   "execution_count": 6,
   "metadata": {},
   "outputs": [],
   "source": [
    "def savePredictionToCsv(predictionDataframe: pd.DataFrame, filepath:str):\n",
    "    '''\n",
    "    Saves a dataframe containing the prediction for a single image to a CSV file.\n",
    "\n",
    "    @predictionDataFrame - The dataframe that contains the predictions and should be saved.\\n\n",
    "    @path - The path under which the CSV file should be saved.\n",
    "    @filename - The name under which the CSV file should be saved.\n",
    "    '''\n",
    "    predictionDataframe.to_csv(filepath, sep=\",\", index=False)\n",
    "\n",
    "def makePredictions(path:str):\n",
    "    '''\n",
    "    Traverses a folder that contains images for which predictions should be made.\\n\n",
    "    Creates a separate prediction CSV file for each image.\n",
    "\n",
    "    @path - The path containing the images for which predictions should be created.\n",
    "    '''\n",
    "    fake_predictions = {\"label\":[\"something\"], \"y_upper_left\": [100], \"x_upper_left\":[100], \"y_lower_right\":[356], \"x_lower_right\":[356]}\n",
    "    dataframe = pd.DataFrame(data=fake_predictions)\n",
    "    counter = 0\n",
    "    for file in os.scandir(path):\n",
    "        filepath = os.fsdecode(file)\n",
    "\n",
    "        if(not (filepath.endswith(\".jpg\") or filepath.endswith(\".png\")) or (\"annotated\" in filepath)):\n",
    "            continue\n",
    "        print(\"Making prediction for file: \", file.name) \n",
    "        savePredictionToCsv(dataframe, os.path.splitext(filepath)[0]+\".csv\")\n",
    "        counter += 1\n",
    "    print(\"Created \",counter, \" predictions.\")\n",
    "\n",
    "def saveOrPrintImages(path:str, print_to_output:bool=False, valBoundingBoxes: bool = False, thickness: int = 2, saveImagesPath:str=\"\"):\n",
    "    '''\n",
    "    Loads and saves all .jpg and .png files from the specified directory.\\n\n",
    "\n",
    "    @print - If set to True, will print the (annotated) images to the output (takes some time). Default value is False.\n",
    "\n",
    "    @valBoundingBoxes If set to true, the method will load the bounding box data from the csv files. The default for this is False.\\n\n",
    "  \n",
    "    @thickness parameter determines how thick the bounding boxes are drawn on the image (width of the line in pixels). The default value is 2.\\n\n",
    "\n",
    "    @saveImagesPath If specified will save the drawn images at the specified path.\n",
    "\n",
    "    '''\n",
    "    for file in os.scandir(path):\n",
    "        filepath = os.fsdecode(file)\n",
    "       \n",
    "\n",
    "        if(not (filepath.endswith(\".jpg\") or filepath.endswith(\".png\"))  or (\"annotated\" in filepath)):\n",
    "            continue\n",
    "\n",
    "        print(\"Saving / printing file: \",os.path.splitext(file.name)[0],\"_annotated.jpg\")\n",
    "        image = cv.imread(filepath) \n",
    "        \n",
    "        if(valBoundingBoxes):\n",
    "            image = addBoundingBoxesFromCsv(image, filepath, thickness)\n",
    "\n",
    "        image = cv.cvtColor(image, cv.COLOR_BGR2RGB)\n",
    "        # Convert to PIL format\n",
    "        image = Image.fromarray(image)\n",
    "        if(saveImagesPath):\n",
    "            image.save(saveImagesPath+\"/\"+ os.path.splitext(file.name)[0]+\"_annotated.jpg\", \"JPEG\")\n",
    "\n",
    "        if(print_to_output):\n",
    "            image.show()\n",
    "        \n",
    "\n",
    "def addBoundingBoxesFromCsv(image: cv.Mat, filepath:str, thickness: int) -> cv.Mat:\n",
    "    '''\n",
    "    Uses a csv file containing the predictions for a single image to draw bounding boxes into an image.\\n\n",
    "\n",
    "    Performs the changes in place and returns the modified image.\n",
    "    The image parameter specifies the image to be modified.\n",
    "    The filepath must contain the path of the csv file that contains the bounding box predictions for this image.\n",
    "    '''\n",
    "    csvPath = os.path.splitext(filepath)[0]+\".csv\"\n",
    "    boundingBoxesDataframe = pd.read_csv(csvPath, delimiter=\",\", header=0 )\n",
    "\n",
    "    for index,boundingBox in boundingBoxesDataframe.iterrows():\n",
    "        label = boundingBox[0]\n",
    "        start_point = (boundingBox[\"x_upper_left\"],boundingBox[\"y_upper_left\"])\n",
    "        end_point = (boundingBox[\"x_lower_right\"], boundingBox[\"y_lower_right\"])\n",
    "\n",
    "        color:str\n",
    "        \n",
    "        if(label== \"background\"):\n",
    "            color=(255,255,255) # (BGR) White\n",
    "        elif(label == \"pool\"):\n",
    "            color=(255,255,0) # (BGR) Cyan\n",
    "        elif(label == \"pond\"):\n",
    "            color=(0,128,0) # (BGR) Green\n",
    "        elif(label == \"solar\"):\n",
    "            color=(255,0,0) # (BGR) Blue\n",
    "        elif(label == \"trampoline\"):\n",
    "            color=(0,255,255) # (BGR) Yellow\n",
    "        else:\n",
    "            color=(180,105,255) # (BGR) Pink if no label present\n",
    "        image = cv.rectangle(image, start_point, end_point, color, thickness=thickness)\n",
    "    \n",
    "    return image"
   ]
  },
  {
   "cell_type": "markdown",
   "metadata": {},
   "source": [
    "## Model Validation (Unlabeled Training Data)"
   ]
  },
  {
   "cell_type": "markdown",
   "metadata": {},
   "source": [
    "This section prints the unlabeled training images along with bounding boxes that are retrieved from the corresponding CSV files."
   ]
  },
  {
   "cell_type": "code",
   "execution_count": 7,
   "metadata": {},
   "outputs": [
    {
     "name": "stdout",
     "output_type": "stream",
     "text": [
      "Making prediction for file:  0FRGJD.png\n",
      "Making prediction for file:  3938J9.png\n",
      "Making prediction for file:  6ATLJM.png\n",
      "Making prediction for file:  6FPS9I.png\n",
      "Making prediction for file:  73COYK.png\n",
      "Making prediction for file:  9Q69FH.png\n",
      "Making prediction for file:  B7DBOX.png\n",
      "Making prediction for file:  BFVATM.png\n",
      "Making prediction for file:  CM380U.png\n",
      "Making prediction for file:  DHX1Z3.png\n",
      "Making prediction for file:  FML5SH.png\n",
      "Making prediction for file:  G8MS91.png\n",
      "Making prediction for file:  JBN1LY.png\n",
      "Making prediction for file:  NNP6V0.png\n",
      "Making prediction for file:  P5L1VO.png\n",
      "Making prediction for file:  RXRIIW.png\n",
      "Making prediction for file:  S9CT2G.png\n",
      "Making prediction for file:  W0E9JC.png\n",
      "Making prediction for file:  W4XC08.png\n",
      "Making prediction for file:  XRZXKK.png\n",
      "Created  20  predictions.\n",
      "Saving / printing file:  0FRGJD _annotated.jpg\n",
      "Saving / printing file:  3938J9 _annotated.jpg\n",
      "Saving / printing file:  6ATLJM _annotated.jpg\n",
      "Saving / printing file:  6FPS9I _annotated.jpg\n",
      "Saving / printing file:  73COYK _annotated.jpg\n",
      "Saving / printing file:  9Q69FH _annotated.jpg\n",
      "Saving / printing file:  B7DBOX _annotated.jpg\n",
      "Saving / printing file:  BFVATM _annotated.jpg\n",
      "Saving / printing file:  CM380U _annotated.jpg\n",
      "Saving / printing file:  DHX1Z3 _annotated.jpg\n",
      "Saving / printing file:  FML5SH _annotated.jpg\n",
      "Saving / printing file:  G8MS91 _annotated.jpg\n",
      "Saving / printing file:  JBN1LY _annotated.jpg\n",
      "Saving / printing file:  NNP6V0 _annotated.jpg\n",
      "Saving / printing file:  P5L1VO _annotated.jpg\n",
      "Saving / printing file:  RXRIIW _annotated.jpg\n",
      "Saving / printing file:  S9CT2G _annotated.jpg\n",
      "Saving / printing file:  W0E9JC _annotated.jpg\n",
      "Saving / printing file:  W4XC08 _annotated.jpg\n",
      "Saving / printing file:  XRZXKK _annotated.jpg\n"
     ]
    }
   ],
   "source": [
    "makePredictions(path=\"./data/unlabeled_training_data/\")\n",
    "saveOrPrintImages(path=\"./data/unlabeled_training_data/\", print_to_output=False, valBoundingBoxes=True,saveImagesPath=\"./data/unlabeled_training_data/\", thickness=5)"
   ]
  },
  {
   "cell_type": "markdown",
   "metadata": {},
   "source": [
    "## Printing the validation images"
   ]
  },
  {
   "cell_type": "markdown",
   "metadata": {},
   "source": [
    "This section prints the public test data images along with their respective predictions / bounding boxes."
   ]
  },
  {
   "cell_type": "code",
   "execution_count": 9,
   "metadata": {},
   "outputs": [
    {
     "name": "stdout",
     "output_type": "stream",
     "text": [
      "Saving / printing file:  DQIMQN _annotated.jpg\n",
      "Saving / printing file:  L7CT2I _annotated.jpg\n",
      "Saving / printing file:  UDPYYD _annotated.jpg\n"
     ]
    }
   ],
   "source": [
    "# Print images from the validation data and use the corresponding csv files to add bounding boxes of classified entities\n",
    "saveOrPrintImages(\"data/validation_data/\", print_to_output=False, valBoundingBoxes=True, thickness=5, saveImagesPath=\"./data/validation_data/\")"
   ]
  }
 ],
 "metadata": {
  "kernelspec": {
   "display_name": "Python 3.8.2 ('geo_py')",
   "language": "python",
   "name": "python3"
  },
  "language_info": {
   "codemirror_mode": {
    "name": "ipython",
    "version": 3
   },
   "file_extension": ".py",
   "mimetype": "text/x-python",
   "name": "python",
   "nbconvert_exporter": "python",
   "pygments_lexer": "ipython3",
   "version": "3.8.2"
  },
  "orig_nbformat": 4,
  "vscode": {
   "interpreter": {
    "hash": "0fb245b132a2be47283fe5f25201c6b65dd2f54345d845219426bdf4f2ce9823"
   }
  }
 },
 "nbformat": 4,
 "nbformat_minor": 2
}

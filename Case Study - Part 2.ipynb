{
 "cells": [
  {
   "cell_type": "markdown",
   "metadata": {},
   "source": [
    "# Case Study Part 2"
   ]
  },
  {
   "cell_type": "markdown",
   "metadata": {},
   "source": [
    "## Todos\n",
    "\n",
    "- ~~Write Introduction~~\n",
    "- ~~Write Data formats~~\n",
    "- ~~Load data~~ \n",
    "- ~~Write function to print validation images~~\n",
    "- ~~Write function to add found boundaries to images~~\n",
    "- Write function to create predictions\n",
    "<br>\n",
    "\n",
    "**Ideas**\n",
    "- Data Augmentation: Shifting, rotating and so on to increase amount of training data"
   ]
  },
  {
   "cell_type": "markdown",
   "metadata": {},
   "source": [
    "## Introduction"
   ]
  },
  {
   "cell_type": "markdown",
   "metadata": {},
   "source": [
    "For one of their projects an insurance company wants to get an estimate of the assets of their clients. For this they want to scan satellite images for four different objects: ponds, pools, photovoltaic systems and trampolines.\n",
    "\n",
    "### Available data\n",
    "To solve the task the following data are available.\n",
    "\n",
    "**Training data**\n",
    "<br>\n",
    "The training data consist of five different groups. In the beginning the data themselves are not labels (as in labeled and already in a dataframe form). They are just .png and .jpg files in different subfolders. All training images are of size 256x256 pixels. The following five groups are available:\n",
    "- Trampoline images: 140 images that contain a trampoline.\n",
    "- Pond images: 9 images that contain a pond.\n",
    "- Pool images: 20 images that contain a pool.\n",
    "- Solar images: 37 images that contain a photovoltaic system.\n",
    "- Background images: 3110 images that do not contain any of the above-mentioned items.\n",
    "\n",
    "This sums up to 3316 labeled training patches. \n",
    "\n",
    "<br>\n",
    "\n",
    "**Unlabeled training data**\n",
    "<br>\n",
    "In addition to the training patches, 20 validation images are available. They are of size 8000x8000 each and can be used for the manual validation of an approach.\n",
    "\n",
    "<br>\n",
    "\n",
    "**Validation data**\n",
    "<br>\n",
    "The validation data set contains 3 images of size 8000x8000. In addition there is a csv file that contains the coordinates of an item and a surrounding bounding box of various items and their respective labels.\n",
    "Thus, one prediction should have the following shape (1,7) with column 1 as strings and the rest as integer values:\n",
    "|label|y_target|x_target|y_upper_left|x_upper_left|y_lower_right|x_lower_right\n",
    "|---|---|---|---|---|---|---|\n",
    "|trampoline|268|278|140|150|396|406|\n",
    "|...|\n",
    "\n",
    "<br>\n",
    "\n",
    "**Predictions** <br>\n",
    "A prediction should represent a bounding box around a target entity. One prediction consist of the label and the four coordinates that describe the bounding box. <br>\n",
    "<span style=\"color:red\">The bounding box must be of size 256 x 256</span>. <br>\n",
    "A prediction is considered correct if the predicted bounding box overlaps at least 50% with the ground truth bounding box. <br>\n",
    "This overlap is computed as the area of the intersection of the boxes divided by the union of the areas of the boxes: IoU = intersection_area / union_area:\n",
    "\n",
    "<img src=\"https://www.baeldung.com/wp-content/uploads/sites/4/2022/04/fig1.png\" alt=\"Intersection over Union for Object Detection | Baeldung on Computer Science\">\n",
    "\n",
    "Our predictions thus must each be of shape (1,5):\n",
    "|label|y_upper_left|x_upper_left|y_lower_right|x_lower_right\n",
    "|---|---|---|---|---|\n",
    "|trampoline|140|150|396|406|\n",
    "|...|\n"
   ]
  },
  {
   "cell_type": "markdown",
   "metadata": {},
   "source": [
    "## Data retrieval"
   ]
  },
  {
   "cell_type": "markdown",
   "metadata": {},
   "source": [
    "This section loads the training patches into a numpy array and creates the corresponding label vector.\n",
    "The result are X_train, X_val, y_train and y_val. \n",
    "\n",
    "The images are converted to RGB values, which is why there are 3 channels in the training data.\n",
    "\n",
    "The training data sets are of dimension (number_of_instances x height x width x 3 channels). \n",
    "The label vectors only have one dimension (number_of_instances)."
   ]
  },
  {
   "cell_type": "code",
   "execution_count": 2,
   "metadata": {},
   "outputs": [],
   "source": [
    "from PIL import Image\n",
    "import numpy as np\n",
    "import os\n",
    "import PIL"
   ]
  },
  {
   "cell_type": "code",
   "execution_count": 3,
   "metadata": {},
   "outputs": [],
   "source": [
    "def loadImagesToArray(path:str):\n",
    "    '''\n",
    "    Loads all .jpg and .png files from the specified directory.\\n\n",
    "    Each image will be converted into an array of size (height x width x channels).\\n\n",
    "    The return numpy array is of dimensions (numberOfImages x height x width x channels).\\n\n",
    "    '''\n",
    "    imagesArray = []\n",
    "\n",
    "    counter = 0\n",
    "    for file in os.scandir(path):\n",
    "        filepath = os.fsdecode(file)\n",
    "        if(filepath.endswith(\".jpg\") or filepath.endswith(\".png\")):\n",
    "                imgArray = np.array(Image.open(filepath))\n",
    "                imagesArray.append(imgArray)\n",
    "                counter += 1                  \n",
    "    return np.array(imagesArray)\n",
    "\n",
    "def loadTrainingDataAndLabels(path, subdirectories):\n",
    "    '''\n",
    "    Loads the training data as numpy arrays and creates the corresponding labels.\\n\n",
    "    For this to work, the images should be under the folder <path> in separate subdirectories, one for each class.\\n\n",
    "    The labels will be inferred from the names of the subdirectories. \\n\n",
    "\n",
    "    Returns the training data as a numpy array with the dimensions (number_of_images x height x width x channels).\\n\n",
    "    Returns the labels as a numpy array with the dimensions (number_of_images).\n",
    "    '''\n",
    "\n",
    "    training_data = []\n",
    "    labels = []\n",
    "\n",
    "    for directory in subdirectories:\n",
    "        images_array = loadImagesToArray(os.path.join(path, directory))\n",
    "        training_data.extend(images_array)\n",
    "\n",
    "        labels.extend(np.full(len(images_array), directory))\n",
    "\n",
    "    training_data_array = np.array(training_data)\n",
    "    print(\"Shape of training_data: \", training_data_array.shape)\n",
    "    labels_array = np.array(labels)\n",
    "    print(\"Shape of labels: \", labels_array.shape)\n",
    "    \n",
    "    return training_data_array, labels_array\n",
    "    "
   ]
  },
  {
   "cell_type": "code",
   "execution_count": 4,
   "metadata": {},
   "outputs": [
    {
     "name": "stdout",
     "output_type": "stream",
     "text": [
      "Shape of training_data:  (3316, 256, 256, 3)\n",
      "Shape of labels:  (3316,)\n"
     ]
    }
   ],
   "source": [
    "training_data, labels = loadTrainingDataAndLabels(\"training_patches/\", [\"background\", \"ponds\", \"pools\", \"solar\", \"trampoline\"])\n",
    "\n",
    "\n",
    "from sklearn import preprocessing\n",
    "\n",
    "le = preprocessing.LabelEncoder()\n",
    "le.fit(labels)\n",
    "labels_categorical = le.transform(labels)"
   ]
  },
  {
   "cell_type": "code",
   "execution_count": 5,
   "metadata": {},
   "outputs": [],
   "source": [
    "from sklearn.model_selection import train_test_split\n",
    "\n",
    "X_train, X_val, y_train, y_val = train_test_split(training_data, labels_categorical, test_size=0.33, random_state=1, stratify=labels)"
   ]
  },
  {
   "cell_type": "markdown",
   "metadata": {},
   "source": [
    "## Data Augmentation"
   ]
  },
  {
   "cell_type": "markdown",
   "metadata": {},
   "source": [
    "Rotation"
   ]
  },
  {
   "cell_type": "code",
   "execution_count": null,
   "metadata": {},
   "outputs": [],
   "source": [
    "import PIL\n",
    "\n",
    "def rotateDirectory(directory,folder):\n",
    "\n",
    "    directory = directory + folder\n",
    "    \n",
    "    for file in os.scandir(directory):\n",
    "        filepath = os.fsdecode(file)      \t\n",
    "        pathname, extension = os.path.splitext(filepath)\n",
    "        \n",
    "        if(filepath.endswith(\".jpg\") or filepath.endswith(\".png\")):\n",
    "                img = Image.open(filepath)\n",
    "                img_180 = img.rotate(180, expand = 0)\n",
    "                img_90 = img.rotate(90, expand = 0)\n",
    "                img_270 = img.rotate(270, expand = 0)\n",
    "                pathname, extension = os.path.splitext(filepath)\n",
    "                filename = str(pathname.split('/')[2])\n",
    "\n",
    "\n",
    "                img_180.save(\"training_patches2/\"+ folder +\"/\" + filename + \"_180\" +\".png\")\n",
    "                img_90.save(\"training_patches2/\"+ folder +\"/\" +filename + \"_90\" +\".png\")\n",
    "                img_270.save(\"training_patches2/\"+ folder +\"/\" +filename + \"_270\" +\".png\")\n",
    "\n",
    "\n",
    "rotateDirectory(\"training_patches/\", \"solar\")\n",
    "rotateDirectory(\"training_patches/\", \"ponds\")\n",
    "rotateDirectory(\"training_patches/\", \"trampoline\")\n",
    "rotateDirectory(\"training_patches/\", \"pools\")"
   ]
  },
  {
   "cell_type": "markdown",
   "metadata": {},
   "source": [
    "## Model Selection"
   ]
  },
  {
   "cell_type": "code",
   "execution_count": 6,
   "metadata": {},
   "outputs": [
    {
     "data": {
      "text/plain": [
       "array([[0, 0, 0, 0, 1],\n",
       "       [0, 0, 0, 1, 0],\n",
       "       [0, 0, 1, 0, 0],\n",
       "       [0, 1, 0, 0, 0],\n",
       "       [1, 0, 0, 0, 0]], dtype=int8)"
      ]
     },
     "execution_count": 6,
     "metadata": {},
     "output_type": "execute_result"
    }
   ],
   "source": [
    "from tensorflow.keras.utils import to_categorical\n",
    "y_train = to_categorical(y_train, dtype=\"int8\")\n",
    "np.unique(y_train, axis=0)\n"
   ]
  },
  {
   "cell_type": "code",
   "execution_count": 7,
   "metadata": {},
   "outputs": [
    {
     "name": "stdout",
     "output_type": "stream",
     "text": [
      "Model: \"sequential\"\n",
      "_________________________________________________________________\n",
      "Layer (type)                 Output Shape              Param #   \n",
      "=================================================================\n",
      "conv2d (Conv2D)              (None, 256, 256, 10)      280       \n",
      "_________________________________________________________________\n",
      "max_pooling2d (MaxPooling2D) (None, 128, 128, 10)      0         \n",
      "_________________________________________________________________\n",
      "flatten (Flatten)            (None, 163840)            0         \n",
      "_________________________________________________________________\n",
      "dense (Dense)                (None, 20)                3276820   \n",
      "_________________________________________________________________\n",
      "dense_1 (Dense)              (None, 20)                420       \n",
      "_________________________________________________________________\n",
      "dense_2 (Dense)              (None, 5)                 105       \n",
      "=================================================================\n",
      "Total params: 3,277,625\n",
      "Trainable params: 3,277,625\n",
      "Non-trainable params: 0\n",
      "_________________________________________________________________\n"
     ]
    }
   ],
   "source": [
    "from tensorflow.keras.layers import InputLayer, Dense, Flatten, Conv2D, MaxPool2D\n",
    "from tensorflow import keras\n",
    "model = keras.models.Sequential()\n",
    "model.add(InputLayer(input_shape=(256,256,3)))\n",
    "model.add(Conv2D(filters=10, kernel_size=(3,3), strides=1, padding=\"same\", activation=\"relu\"))\n",
    "model.add(MaxPool2D(pool_size=(2,2)))\n",
    "model.add(Flatten())\n",
    "model.add(Dense(20, activation=\"relu\"))\n",
    "model.add(Dense(20, activation=\"relu\"))\n",
    "model.add(Dense(5, activation=\"softmax\"))\n",
    "\n",
    "model.summary()"
   ]
  },
  {
   "cell_type": "code",
   "execution_count": 8,
   "metadata": {},
   "outputs": [
    {
     "name": "stdout",
     "output_type": "stream",
     "text": [
      "Epoch 1/20\n",
      "32/32 [==============================] - 16s 463ms/step - loss: 172.7185 - accuracy: 0.8308 - val_loss: 113.3791 - val_accuracy: 0.9238\n",
      "Epoch 2/20\n",
      "32/32 [==============================] - 15s 478ms/step - loss: 10.1959 - accuracy: 0.9084 - val_loss: 8.9653 - val_accuracy: 0.9283\n",
      "Epoch 3/20\n",
      "32/32 [==============================] - 16s 501ms/step - loss: 1.5696 - accuracy: 0.9364 - val_loss: 1.5539 - val_accuracy: 0.9103\n",
      "Epoch 4/20\n",
      "32/32 [==============================] - 16s 507ms/step - loss: 0.7926 - accuracy: 0.9424 - val_loss: 3.5821 - val_accuracy: 0.9327\n",
      "Epoch 5/20\n",
      "32/32 [==============================] - 42s 1s/step - loss: 0.3016 - accuracy: 0.9760 - val_loss: 2.0591 - val_accuracy: 0.9283\n",
      "Epoch 6/20\n",
      "32/32 [==============================] - 34s 1s/step - loss: 0.1246 - accuracy: 0.9805 - val_loss: 1.3525 - val_accuracy: 0.9417\n",
      "Epoch 7/20\n",
      "32/32 [==============================] - 20s 618ms/step - loss: 0.0834 - accuracy: 0.9840 - val_loss: 1.4500 - val_accuracy: 0.9417\n",
      "Epoch 8/20\n",
      "32/32 [==============================] - 21s 648ms/step - loss: 0.0598 - accuracy: 0.9855 - val_loss: 1.3995 - val_accuracy: 0.9417\n",
      "Epoch 9/20\n",
      "32/32 [==============================] - 26s 827ms/step - loss: 0.0513 - accuracy: 0.9855 - val_loss: 1.4067 - val_accuracy: 0.9417\n",
      "Epoch 10/20\n",
      "32/32 [==============================] - 30s 940ms/step - loss: 0.0459 - accuracy: 0.9855 - val_loss: 1.5493 - val_accuracy: 0.9417\n",
      "Epoch 11/20\n",
      "32/32 [==============================] - 30s 932ms/step - loss: 0.0442 - accuracy: 0.9850 - val_loss: 1.5916 - val_accuracy: 0.9417\n",
      "Epoch 12/20\n",
      "32/32 [==============================] - 24s 749ms/step - loss: 0.0464 - accuracy: 0.9850 - val_loss: 1.2363 - val_accuracy: 0.9417\n",
      "Epoch 13/20\n",
      "32/32 [==============================] - 26s 829ms/step - loss: 0.0424 - accuracy: 0.9850 - val_loss: 1.3923 - val_accuracy: 0.9417\n",
      "Epoch 14/20\n",
      "32/32 [==============================] - 30s 929ms/step - loss: 0.0436 - accuracy: 0.9850 - val_loss: 1.4892 - val_accuracy: 0.9417\n",
      "Epoch 15/20\n",
      "32/32 [==============================] - 26s 815ms/step - loss: 0.0363 - accuracy: 0.9860 - val_loss: 1.7300 - val_accuracy: 0.9417\n",
      "Epoch 16/20\n",
      "32/32 [==============================] - 26s 812ms/step - loss: 0.0363 - accuracy: 0.9855 - val_loss: 1.5448 - val_accuracy: 0.9417\n",
      "Epoch 17/20\n",
      "32/32 [==============================] - 30s 952ms/step - loss: 0.0424 - accuracy: 0.9845 - val_loss: 1.7307 - val_accuracy: 0.9417\n",
      "Epoch 18/20\n",
      "32/32 [==============================] - 33s 1s/step - loss: 0.0411 - accuracy: 0.9850 - val_loss: 1.6245 - val_accuracy: 0.9462\n",
      "Epoch 19/20\n",
      "32/32 [==============================] - 28s 861ms/step - loss: 0.0378 - accuracy: 0.9850 - val_loss: 1.6427 - val_accuracy: 0.9462\n",
      "Epoch 20/20\n",
      "32/32 [==============================] - 27s 827ms/step - loss: 0.0345 - accuracy: 0.9855 - val_loss: 1.7807 - val_accuracy: 0.9462\n"
     ]
    }
   ],
   "source": [
    "model.compile(loss=\"categorical_crossentropy\", optimizer=\"adam\", metrics=[\"accuracy\"])\n",
    "\n",
    "\n",
    "history = model.fit(X_train, \n",
    "                    y_train, \n",
    "                    epochs=20,\n",
    "                    batch_size=64,\n",
    "                    validation_split=0.1,\n",
    "                   )\n",
    "\n",
    "\n"
   ]
  },
  {
   "cell_type": "code",
   "execution_count": 25,
   "metadata": {},
   "outputs": [
    {
     "data": {
      "text/plain": [
       "(0.3066859066859067, 0.9598173515981735)"
      ]
     },
     "execution_count": 25,
     "metadata": {},
     "output_type": "execute_result"
    }
   ],
   "source": [
    "preds = model.predict(X_val)\n",
    "from sklearn.metrics import f1_score\n",
    "from sklearn.metrics import accuracy_score\n",
    "preds_argmaxed = np.apply_along_axis(np.argmax, 1, preds)\n",
    "f1_score(y_val,preds_argmaxed, average='macro'), accuracy_score(y_val, preds_argmaxed) \n",
    "\n",
    "\n",
    "\n"
   ]
  },
  {
   "cell_type": "code",
   "execution_count": 26,
   "metadata": {},
   "outputs": [
    {
     "data": {
      "text/plain": [
       "array([[1027,    0,    0,    0,    0],\n",
       "       [   1,    0,    0,    0,    2],\n",
       "       [   0,    0,    0,    0,    7],\n",
       "       [   2,    1,    0,    0,    9],\n",
       "       [  22,    0,    0,    0,   24]])"
      ]
     },
     "execution_count": 26,
     "metadata": {},
     "output_type": "execute_result"
    }
   ],
   "source": [
    "\n",
    "\n",
    "from sklearn.metrics import confusion_matrix\n",
    "\n",
    "confusion_matrix(y_val, preds_argmaxed)\n",
    "\n"
   ]
  },
  {
   "cell_type": "markdown",
   "metadata": {},
   "source": [
    "## Model Training"
   ]
  },
  {
   "cell_type": "code",
   "execution_count": null,
   "metadata": {},
   "outputs": [],
   "source": []
  },
  {
   "cell_type": "markdown",
   "metadata": {},
   "source": [
    "## Model Validation"
   ]
  },
  {
   "cell_type": "markdown",
   "metadata": {},
   "source": [
    "This section contains code that is needed to create predictions, save them and to print the training / validation images - either with or without the predicted bounding boxes."
   ]
  },
  {
   "cell_type": "code",
   "execution_count": 27,
   "metadata": {},
   "outputs": [],
   "source": [
    "from tensorflow import keras\n",
    "from PIL import Image\n",
    "from keras.applications.inception_v3 import preprocess_input\n",
    "from keras import Model\n",
    "import time\n",
    "import pandas as pd"
   ]
  },
  {
   "cell_type": "code",
   "execution_count": 28,
   "metadata": {},
   "outputs": [],
   "source": [
    "def savePredictionToCsv(predictionDataframe: pd.DataFrame, filepath:str):\n",
    "    '''\n",
    "    Saves a dataframe containing the prediction for a single image to a CSV file.\n",
    "\n",
    "    @predictionDataFrame - The dataframe that contains the predictions and should be saved.\\n\n",
    "    @path - The path under which the CSV file should be saved.\n",
    "    @filename - The name under which the CSV file should be saved.\n",
    "    '''\n",
    "    #filepath =  os.path.splitext(filepath)[2]+\"_prediction.csv\"\n",
    "    filepath = \"./03_validation_results/\" +str(filepath.split('/')[2]) +\"_prediction.csv\"\n",
    "    predictionDataframe.to_csv(filepath, sep=\",\", index=False)\n",
    "\n",
    "\n",
    "\n",
    "def makePredictions(path:str, convnet:keras.Model, stepSize:int, windowSize):\n",
    "    '''\n",
    "    Traverses a folder that contains images for which predictions should be made.\\n\n",
    "    Creates a separate prediction CSV file for each image.\n",
    "\n",
    "    @path - The path containing the images for which predictions should be created.\n",
    "    '''\n",
    "\n",
    "    # For each image in path\n",
    "        # Perform sliding Window approach\n",
    "            # For each slide\n",
    "            # Store x_upper_left, y_upper_left, x_lower_right, y_lower_right\n",
    "            # Run image through convnet\n",
    "            # Run classifier on output\n",
    "            # If prediction != 'background'\n",
    "            # Store prediction in temp array\n",
    "        # Run non-max suppression to filter predictions\n",
    "        # Store predictions in csv\n",
    "    for file in os.scandir(path):\n",
    "        filepath = os.fsdecode(file)\n",
    "        \n",
    "        if((\"annotated\" in filepath) or not (filepath.endswith(\".jpg\") or filepath.endswith(\".png\"))):\n",
    "           continue\n",
    "        \n",
    "        createPredictionsForImage(filepath=filepath, convnet=convnet, stepSize=stepSize, windowSize=windowSize)\n",
    "\n",
    "\n",
    "def createPredictionsForImage(filepath:str, convnet:keras.Model, stepSize:int, windowSize):\n",
    "    '''\n",
    "    Creates the prediction CSV for one image.\n",
    "    '''\n",
    "\n",
    "    print(\"\\nCreating predictions for file: \", filepath)\n",
    "    create_predictions_start_time = time.time()\n",
    "    #image = Image.open(filepath)\n",
    "    imgArray = np.array(Image.open(filepath))\n",
    "    \n",
    "    patch_coordinates= []  \n",
    "    preprocessed_patches = []\n",
    "    counter = 0\n",
    "    patch_preprocessing_start_time = time.time()\n",
    "    \n",
    "    print(\"Starting sliding window to create patches of size: \", windowSize[0], \"x\", windowSize[1], \".\")\n",
    "    for(x,y,patch) in sliding_window(imageArray=imgArray, stepSize=stepSize, windowSize=windowSize):\n",
    "        if counter > 0 and counter%10000 == 0:\n",
    "            print(\"Still processing, reached patch\", counter)\n",
    "            print(\"Execution time for the last 10.000 patches: \", time.time()-patch_preprocessing_start_time, \" seconds.\")\n",
    "            patch_preprocessing_start_time = time.time()\n",
    "            print(\"Processing continues...\")\n",
    "        \n",
    "        # Skip if the size of a patch doesn't match the specified windowSize\n",
    "        if patch.shape[0] != windowSize[0] or patch.shape[1] != windowSize[1]:\n",
    "            continue\n",
    "    \n",
    "        # Save coordinates which are needed for a prediction\n",
    "        x_upper_left = x\n",
    "        y_upper_left = y\n",
    "        x_lower_right = x+windowSize[0]\n",
    "        y_lower_right = y+windowSize[1]\n",
    "        x_center = x+128\n",
    "        y_center = y+128\n",
    "\n",
    "        # Run the patch through the classification\n",
    "        preprocessed_patch = preprocess_input(patch)\n",
    "        preprocessed_patches.append(preprocessed_patch)\n",
    "        patch_coordinates.append([y_upper_left, x_upper_left, y_lower_right, x_lower_right])\n",
    "        counter +=1\n",
    "    \n",
    "    print(\"Finished preprocessing of the patches.\")\n",
    "    preprocessed_patches = np.array(preprocessed_patches)\n",
    "    patch_coordinates = np.array(patch_coordinates)\n",
    "    print(\"Shape of preprocessed patches: \", preprocessed_patches.shape)\n",
    "    print(\"Shape of patch coordinates: \", patch_coordinates.shape, \"\\n\")\n",
    "\n",
    "    # Get all predictions\n",
    "    print(\"Running patches through ConvNet and using classifier to predict labels...\")\n",
    "    prediction_start_time = time.time()\n",
    "    predicted_labels_encoded = pd.DataFrame(convnet.predict(preprocessed_patches), columns=[\"background\", \"ponds\", \"pools\", \"solar\", \"trampoline\"])\n",
    "    predicted_labels= predicted_labels_encoded.idxmax(1)\n",
    "    \n",
    "    print(\"Finished predictions, execution time: \", time.time()-prediction_start_time, \" seconds.\\n\")\n",
    "    \n",
    "    print(\"Shape of predicted_labels: \", labels.shape)\n",
    "    print(\"Shape of patch_coordinates: \", patch_coordinates.shape)\n",
    "\n",
    "    # Combining patch coordinates and predictions\n",
    "    predictions_array=np.c_[predicted_labels, patch_coordinates]\n",
    "\n",
    "    print(\"Shape of combined predictions array (unfiltered): \", predictions_array.shape)\n",
    "\n",
    "    predictions_dataframe = pd.DataFrame(data=predictions_array, columns=[\"label\",\"y_upper_left\", \"x_upper_left\", \"y_lower_right\", \"x_lower_right\"])\n",
    "    # Filter all predictions that contain the label \"background\"\n",
    "    predictions_dataframe = predictions_dataframe[predictions_dataframe.label != \"background\"]\n",
    "    print(\"Description of the predictions dataframe: \", predictions_dataframe.describe())\n",
    "\n",
    "    # Save prediction to csv\n",
    "    savePredictionToCsv(predictionDataframe=predictions_dataframe, filepath=filepath)\n",
    "    print(\"Saved predictions for file: \", filepath, \"\\n\")\n",
    "    print(\"Elapsed time: \", time.time()-create_predictions_start_time, \" seconds.\\n\")\n",
    "\n",
    "    \n",
    "def sliding_window(imageArray, stepSize:int, windowSize=(256,256)):\n",
    "    for y in range(0, imageArray.shape[0], stepSize):\n",
    "\t    for x in range(0, imageArray.shape[1], stepSize):\n",
    "\t\t\t# yield the current window\n",
    "\t\t    yield (x, y, imageArray[y:y + windowSize[1], x:x + windowSize[0]])"
   ]
  },
  {
   "cell_type": "code",
   "execution_count": 32,
   "metadata": {},
   "outputs": [
    {
     "name": "stdout",
     "output_type": "stream",
     "text": [
      "\n",
      "Creating predictions for file:  ./02_validation_data_images/DQIMQN.png\n",
      "Starting sliding window to create patches of size:  256 x 256 .\n",
      "Still processing, reached patch 10000\n",
      "Execution time for the last 10.000 patches:  11.607695817947388  seconds.\n",
      "Processing continues...\n",
      "Still processing, reached patch 20000\n",
      "Execution time for the last 10.000 patches:  17.799495935440063  seconds.\n",
      "Processing continues...\n",
      "Still processing, reached patch 30000\n",
      "Execution time for the last 10.000 patches:  16.359992027282715  seconds.\n",
      "Processing continues...\n",
      "Still processing, reached patch 40000\n",
      "Execution time for the last 10.000 patches:  36.129801988601685  seconds.\n",
      "Processing continues...\n",
      "Still processing, reached patch 50000\n",
      "Execution time for the last 10.000 patches:  26.264587879180908  seconds.\n",
      "Processing continues...\n",
      "Finished preprocessing of the patches.\n"
     ]
    },
    {
     "ename": "",
     "evalue": "",
     "output_type": "error",
     "traceback": [
      "\u001b[1;31mCanceled future for execute_request message before replies were done"
     ]
    },
    {
     "ename": "",
     "evalue": "",
     "output_type": "error",
     "traceback": [
      "\u001b[1;31mThe Kernel crashed while executing code in the the current cell or a previous cell. Please review the code in the cell(s) to identify a possible cause of the failure. Click <a href='https://aka.ms/vscodeJupyterKernelCrash'>here</a> for more info. View Jupyter <a href='command:jupyter.viewOutput'>log</a> for further details."
     ]
    }
   ],
   "source": [
    "#Execute Cell\n",
    "makePredictions(\"./02_validation_data_images/\", convnet=model, stepSize=64, windowSize=(256,256))"
   ]
  },
  {
   "cell_type": "code",
   "execution_count": 47,
   "metadata": {},
   "outputs": [
    {
     "name": "stdout",
     "output_type": "stream",
     "text": [
      "Performing non-max suppresion on file  03_validation_results/DQIMQN_prediction.csv\n",
      "OriginalPredictions shape:  [ nan 320. 384. 192. 256. 448. 512.]\n",
      "Shape of coordinates:  (332, 4)\n",
      "Shape of labels:  (332,)\n",
      "(0,)\n",
      "[]\n",
      "Shape of selected labels:  (0,)\n",
      "Shape of selected boxes:  (0, 4)\n",
      "Empty DataFrame\n",
      "Columns: [label, y_upper_left, x_upper_left, y_lower_right, x_lower_right]\n",
      "Index: []\n"
     ]
    }
   ],
   "source": [
    "import tensorflow as tf\n",
    "import numpy as np\n",
    "\n",
    "def nonMaxSuppressBoundingBoxes(path:str, iou_threshold:float, score_threshold:float):\n",
    "    '''\n",
    "    Loads the csv files from the path and performs the non-max-suppression to reduce the amount of predictions to one per detected object.\\n\n",
    "    '''\n",
    "\n",
    "    for file in os.scandir(path):\n",
    "        filepath = os.fsdecode(file)\n",
    "        \n",
    "        if(not(filepath.endswith(\".csv\")) or (\"suppressed\" in filepath)):\n",
    "           continue\n",
    "\n",
    "        print(\"Performing non-max suppresion on file \", filepath)\n",
    "        originalPredictions = np.genfromtxt(filepath, delimiter=',', skip_header=1)\n",
    "        originalPredictions_df= pd.read_csv(filepath)\n",
    "        print(\"OriginalPredictions shape: \", originalPredictions[0])\n",
    "\n",
    "        labels = originalPredictions_df[\"label\"]\n",
    "        coordinates = originalPredictions[:, 2:6].astype(int)\n",
    "        scores = originalPredictions[:,0]\n",
    "        print(\"Shape of coordinates: \", coordinates.shape)\n",
    "        print(\"Shape of labels: \", scores.shape)\n",
    "       \n",
    "        selectedBoxes_indices = tf.image.non_max_suppression(boxes=coordinates, scores=scores, max_output_size=200, iou_threshold=iou_threshold, score_threshold=score_threshold )\n",
    "        print(selectedBoxes_indices.shape)\n",
    "\n",
    "        selected_boxes = tf.gather(coordinates, selectedBoxes_indices).numpy()\n",
    "        selected_labels = np.array([x.numpy().decode() for x in tf.gather(labels, selectedBoxes_indices)])\n",
    "        selected_scores = tf.gather(scores, selectedBoxes_indices).numpy()\n",
    "        print(selected_labels)\n",
    "        print(\"Shape of selected labels: \", selected_labels.shape)\n",
    "        print(\"Shape of selected boxes: \", selected_boxes.shape)\n",
    "\n",
    "        predictions = pd.DataFrame(np.c_[selected_labels, selected_boxes], columns=[\"label\", \"y_upper_left\", \"x_upper_left\", \"y_lower_right\", \"x_lower_right\"])\n",
    "        print(predictions)\n",
    "        new_filepath =  os.path.splitext(filepath)[0]+\"_suppressed.csv\"\n",
    "        predictions.to_csv(new_filepath, sep=\",\", index=False)\n",
    "        \n",
    "\n",
    "nonMaxSuppressBoundingBoxes(\"03_validation_results/\", iou_threshold=0.5, score_threshold=0.75)\n"
   ]
  },
  {
   "cell_type": "code",
   "execution_count": 30,
   "metadata": {},
   "outputs": [
    {
     "data": {
      "text/plain": [
       "1802"
      ]
     },
     "execution_count": 30,
     "metadata": {},
     "output_type": "execute_result"
    }
   ],
   "source": [
    "import gc\n",
    "preprocessed_patches = None\n",
    "del preprocessed_patches\n",
    "patch_coordinates = None\n",
    "del patch_coordinates\n",
    "X_train = None\n",
    "del X_train\n",
    "X_val = None \n",
    "del X_val\n",
    "y_train = None\n",
    "del y_train\n",
    "y_val = None\n",
    "training_data = None\n",
    "del training_data\n",
    "X_train_preprocessed = None\n",
    "del X_train_preprocessed\n",
    "gc.collect()\n",
    "\n"
   ]
  },
  {
   "cell_type": "code",
   "execution_count": 35,
   "metadata": {},
   "outputs": [
    {
     "name": "stdout",
     "output_type": "stream",
     "text": [
      "\n",
      "Creating predictions for file:  ./02_validation_data_images/DQIMQN.png\n",
      "Starting sliding window to create patches of size:  256 x 256 .\n",
      "Still processing, reached patch 10000\n",
      "Execution time for the last 10.000 patches:  6.959197044372559  seconds.\n",
      "Processing continues...\n",
      "Finished preprocessing of the patches.\n",
      "Shape of preprocessed patches:  (14884, 256, 256, 3)\n",
      "Shape of patch coordinates:  (14884, 6) \n",
      "\n",
      "Running patches through ConvNet and using classifier to predict labels...\n",
      "Finished predictions, execution time:  182.3661322593689  seconds.\n",
      "\n",
      "Shape of predicted_labels:  (3316,)\n",
      "Shape of patch_coordinates:  (14884, 6)\n",
      "Shape of combined predictions array (unfiltered):  (14884, 7)\n",
      "Description of the predictions dataframe:               label  y_center  x_center  y_upper_left  x_upper_left  \\\n",
      "count          332       332       332           332           332   \n",
      "unique           3        94        85            94            85   \n",
      "top     trampoline      6528      1280          6400           896   \n",
      "freq           328        14        11            14            11   \n",
      "\n",
      "        y_lower_right  x_lower_right  \n",
      "count             332            332  \n",
      "unique             94             85  \n",
      "top              6656           1152  \n",
      "freq               14             11  \n",
      "Saved predictions for file:  ./02_validation_data_images/DQIMQN.png \n",
      "\n",
      "Elapsed time:  279.8404610157013  seconds.\n",
      "\n"
     ]
    }
   ],
   "source": [
    "makePredictions(\"./02_validation_data_images/\", convnet=model, stepSize=64, windowSize=(256,256))"
   ]
  },
  {
   "cell_type": "markdown",
   "metadata": {},
   "source": [
    "## Model Validation (Unlabeled Training Data)"
   ]
  },
  {
   "cell_type": "markdown",
   "metadata": {},
   "source": [
    "This section prints the unlabeled training images along with bounding boxes that are retrieved from the corresponding CSV files."
   ]
  },
  {
   "cell_type": "code",
   "execution_count": 31,
   "metadata": {},
   "outputs": [
    {
     "name": "stdout",
     "output_type": "stream",
     "text": [
      "{'file': 'DQIMQN.png', 'tp': 0, 'fn': 30, 'fp': 0, 'f1': 6.666666662222222e-10}\n"
     ]
    }
   ],
   "source": [
    "import csv, json, glob, random, os\n",
    "from shapely.geometry import Polygon\n",
    "\n",
    "def calc_performance(gt_path, pred_path, image_name=None, verbose=0):\n",
    "    ground_truth = []\n",
    "    predictions = []\n",
    "\n",
    "    # Create default performance values\n",
    "    performances = {\n",
    "        'file': image_name,\n",
    "        'tp': 0,\n",
    "        'fn': 0,\n",
    "        'fp': 0,\n",
    "        'f1': 0,\n",
    "    }\n",
    "\n",
    "    ## Load ground truth\n",
    "    with open(gt_path) as f:\n",
    "        reader = csv.DictReader(f)\n",
    "        for row in reader:\n",
    "            row = {k: int(row[k]) if k != 'label' else row[k] for k in row.keys()}\n",
    "            ground_truth.append(row)\n",
    "\n",
    "    ## load predictions if path exists\n",
    "    if os.path.exists(pred_path):\n",
    "        with open(pred_path) as f:\n",
    "            reader = csv.DictReader(f)\n",
    "            for row in reader:\n",
    "                row = {k: int(row[k]) if k != 'label' else row[k] for k in row.keys()}\n",
    "                predictions.append(row)\n",
    "\n",
    "    # Number of false positives equals number of left predictions\n",
    "    performances['fp'] = max(len(predictions) - len(ground_truth), 0)\n",
    "\n",
    "    for j, gt in enumerate(ground_truth):\n",
    "        gt_box = Polygon([(gt['y_upper_left'],  gt['x_upper_left']),\n",
    "                          (gt['y_upper_left'],  gt['x_lower_right']),\n",
    "                          (gt['y_lower_right'], gt['x_lower_right']),\n",
    "                          (gt['y_lower_right'], gt['x_upper_left'])])\n",
    "\n",
    "        if gt_box.area != (256. * 256.):\n",
    "            print(f'### Warning {j}: false ground truth shape of {gt_box.area} detected in {image_name}!')\n",
    "            print(gt['y_lower_right'] - gt['y_upper_left'], gt['x_lower_right'] - gt['x_upper_left'])\n",
    "\n",
    "        best_found_iou = (None, 0.) # (idx, IoU)\n",
    "        for i, pred in enumerate(predictions):\n",
    "            if gt['label'] == pred['label']:\n",
    "                pred_box = Polygon([(pred['y_upper_left'],  pred['x_upper_left']),\n",
    "                                    (pred['y_upper_left'],  pred['x_lower_right']),\n",
    "                                    (pred['y_lower_right'], pred['x_lower_right']),\n",
    "                                    (pred['y_lower_right'], pred['x_upper_left'])])\n",
    "\n",
    "                if pred_box.area != (256. * 256.):\n",
    "                    print(f'### Warning {i}: false predicted shape of {pred_box.area} detected in {image_name}!')\n",
    "                    print(pred['y_lower_right'] - pred['y_upper_left'], pred['x_lower_right'] - pred['x_upper_left'])\n",
    "\n",
    "                ## Calculate IoU\n",
    "                next_iou = (gt_box.intersection(pred_box).area + 1) / (gt_box.union(pred_box).area + 1)\n",
    "\n",
    "                # If the next found IoU is larger than the previous found IoU -> override\n",
    "                if next_iou > best_found_iou[1]:\n",
    "                    best_found_iou = (i, next_iou)\n",
    "\n",
    "        ## Append metric. If IoU is larger 0.5, then its a true positive, else false negative\n",
    "        if best_found_iou[0] is not None and best_found_iou[1] >= 0.5:\n",
    "            del predictions[best_found_iou[0]] # Remove prediction from list!\n",
    "            performances['tp'] += 1 # Increase number of True Positives\n",
    "            if verbose == 1:\n",
    "                print(f'Found correct prediction with IoU of {round(best_found_iou[1], 3)} and label {gt[\"label\"]}!')\n",
    "        else:\n",
    "            performances['fn'] += 1 # Increase number of False Negatives\n",
    "            if verbose == 1:\n",
    "                print(f'Found false prediction with IoU of {round(best_found_iou[1], 3)} and label {gt[\"label\"]}!')\n",
    "\n",
    "    ## Calculate F1-Score\n",
    "    performances['f1'] = (performances['tp'] + 1e-8) / \\\n",
    "                                    (performances['tp'] + 0.5 * (performances['fp'] + performances['fn']) + 1e-8)\n",
    "    return performances\n",
    "\n",
    "\n",
    "path = '02_validation_data_images' # Change if needed\n",
    "\n",
    "## Iterate over all validation images\n",
    "for image_path in glob.glob(path + '/*.png'):\n",
    "    image_name = image_path.split('/')[-1]\n",
    "    gt_path = image_path[:-4] + '_true.csv' # Ground Truth path\n",
    "    pred_path = image_path[:-4] + '_prediction.csv' # Prediction path\n",
    "    performance = calc_performance(gt_path, pred_path, image_name)\n",
    "    print(performance)\n"
   ]
  },
  {
   "cell_type": "markdown",
   "metadata": {},
   "source": [
    "## Printing the validation images"
   ]
  },
  {
   "cell_type": "markdown",
   "metadata": {},
   "source": [
    "This section prints the public test data images along with their respective predictions / bounding boxes."
   ]
  }
 ],
 "metadata": {
  "kernelspec": {
   "display_name": "Python 3.8.2 ('geo_py')",
   "language": "python",
   "name": "python3"
  },
  "language_info": {
   "codemirror_mode": {
    "name": "ipython",
    "version": 3
   },
   "file_extension": ".py",
   "mimetype": "text/x-python",
   "name": "python",
   "nbconvert_exporter": "python",
   "pygments_lexer": "ipython3",
   "version": "3.8.2"
  },
  "orig_nbformat": 4,
  "vscode": {
   "interpreter": {
    "hash": "0fb245b132a2be47283fe5f25201c6b65dd2f54345d845219426bdf4f2ce9823"
   }
  }
 },
 "nbformat": 4,
 "nbformat_minor": 2
}

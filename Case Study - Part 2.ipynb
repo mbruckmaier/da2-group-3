{
 "cells": [
  {
   "cell_type": "markdown",
   "metadata": {},
   "source": [
    "# Case Study Part 2"
   ]
  },
  {
   "cell_type": "markdown",
   "metadata": {},
   "source": [
    "## Todos\n",
    "\n",
    "- ~~Write Introduction~~\n",
    "- ~~Write Data formats~~\n",
    "- ~~Load data~~ \n",
    "- ~~Write function to print validation images~~\n",
    "- ~~Write function to add found boundaries to images~~\n",
    "- Find a prelearned convnet for sattelite images\n",
    "- Load it\n",
    "- Fix the weights\n",
    "- Train the head (softmax, 5 output neurons)\n",
    "- Unfix the weights\n",
    "- Train the whole classifier\n",
    "- Write function to create predictions\n",
    "<br>\n",
    "\n",
    "**Ideas**\n",
    "- Data Augmentation: Shifting, rotating and so on to increase amount of training data"
   ]
  },
  {
   "cell_type": "markdown",
   "metadata": {},
   "source": [
    "## Introduction"
   ]
  },
  {
   "cell_type": "markdown",
   "metadata": {},
   "source": [
    "For one of their projects an insurance company wants to get an estimate of the assets of their clients. For this they want to scan satellite images for four different objects: ponds, pools, photovoltaic systems and trampolines.\n",
    "\n",
    "### Available data\n",
    "To solve the task the following data are available.\n",
    "\n",
    "**Training data**\n",
    "<br>\n",
    "The training data consist of five different groups. In the beginning the data themselves are not labels (as in labeled and already in a dataframe form). They are just .png and .jpg files in different subfolders. All training images are of size 256x256 pixels. The following five groups are available:\n",
    "- Trampoline images: 140 images that contain a trampoline.\n",
    "- Pond images: 9 images that contain a pond.\n",
    "- Pool images: 20 images that contain a pool.\n",
    "- Solar images: 37 images that contain a photovoltaic system.\n",
    "- Background images: 3110 images that do not contain any of the above-mentioned items.\n",
    "\n",
    "This sums up to 3316 labeled training patches. \n",
    "\n",
    "<br>\n",
    "\n",
    "**Unlabeled training data**\n",
    "<br>\n",
    "In addition to the training patches, 20 validation images are available. They are of size 8000x8000 each and can be used for the manual validation of an approach.\n",
    "\n",
    "<br>\n",
    "\n",
    "**Validation data**\n",
    "<br>\n",
    "The validation data set contains 3 images of size 8000x8000. In addition there is a csv file that contains the coordinates of an item and a surrounding bounding box of various items and their respective labels.\n",
    "Thus, one prediction should have the following shape (1,7) with column 1 as strings and the rest as integer values:\n",
    "|label|y_target|x_target|y_upper_left|x_upper_left|y_lower_right|x_lower_right\n",
    "|---|---|---|---|---|---|---|\n",
    "|trampoline|268|278|140|150|396|406|\n",
    "|...|\n",
    "\n",
    "<br>\n",
    "\n",
    "**Predictions** <br>\n",
    "A prediction should represent a bounding box around a target entity. One prediction consist of the label and the four coordinates that describe the bounding box. <br>\n",
    "<span style=\"color:red\">The bounding box must be of size 256 x 256</span>. <br>\n",
    "A prediction is considered correct if the predicted bounding box overlaps at least 50% with the ground truth bounding box. <br>\n",
    "This overlap is computed as the area of the intersection of the boxes divided by the union of the areas of the boxes: IoU = intersection_area / union_area:\n",
    "\n",
    "<img src=\"https://www.baeldung.com/wp-content/uploads/sites/4/2022/04/fig1.png\" alt=\"Intersection over Union for Object Detection | Baeldung on Computer Science\">\n",
    "\n",
    "Our predictions thus must each be of shape (1,5):\n",
    "|label|y_upper_left|x_upper_left|y_lower_right|x_lower_right\n",
    "|---|---|---|---|---|\n",
    "|trampoline|140|150|396|406|\n",
    "|...|\n"
   ]
  },
  {
   "cell_type": "markdown",
   "metadata": {},
   "source": [
    "## Data retrieval"
   ]
  },
  {
   "cell_type": "markdown",
   "metadata": {},
   "source": [
    "This section loads the training patches into a numpy array and creates the corresponding label vector.\n",
    "The result are X_train, X_val, y_train and y_val. \n",
    "\n",
    "The images are converted to RGB values, which is why there are 3 channels in the training data.\n",
    "\n",
    "The training data sets are of dimension (number_of_instances x height x width x 3 channels). \n",
    "The label vectors only have one dimension (number_of_instances)."
   ]
  },
  {
   "cell_type": "code",
   "execution_count": 84,
   "metadata": {},
   "outputs": [],
   "source": [
    "from PIL import Image\n",
    "import numpy as np\n",
    "import os"
   ]
  },
  {
   "cell_type": "code",
   "execution_count": 85,
   "metadata": {},
   "outputs": [],
   "source": [
    "def loadImagesToArray(path:str):\n",
    "    '''\n",
    "    Loads all .jpg and .png files from the specified directory.\\n\n",
    "    Each image will be converted into an array of size (height x width x channels).\\n\n",
    "    The return numpy array is of dimensions (numberOfImages x height x width x channels).\\n\n",
    "    '''\n",
    "    imagesArray = []\n",
    "\n",
    "    counter = 0\n",
    "    for file in os.scandir(path):\n",
    "        filepath = os.fsdecode(file)\n",
    "        if(filepath.endswith(\".jpg\") or filepath.endswith(\".png\")):\n",
    "                imgArray = np.array(Image.open(filepath))\n",
    "                imagesArray.append(imgArray)\n",
    "                counter += 1                  \n",
    "    return np.array(imagesArray)\n",
    "\n",
    "def loadTrainingDataAndLabels(path:str, subdirectories: list[str]):\n",
    "    '''\n",
    "    Loads the training data as numpy arrays and creates the corresponding labels.\\n\n",
    "    For this to work, the images should be under the folder <path> in separate subdirectories, one for each class.\\n\n",
    "    The labels will be inferred from the names of the subdirectories. \\n\n",
    "\n",
    "    Returns the training data as a numpy array with the dimensions (number_of_images x height x width x channels).\\n\n",
    "    Returns the labels as a numpy array with the dimensions (number_of_images).\n",
    "    '''\n",
    "\n",
    "    training_data = []\n",
    "    labels = []\n",
    "\n",
    "    for directory in subdirectories:\n",
    "        images_array = loadImagesToArray(os.path.join(path, directory))\n",
    "        training_data.extend(images_array)\n",
    "\n",
    "        labels.extend(np.full(len(images_array), directory))\n",
    "\n",
    "    training_data_array = np.array(training_data)\n",
    "    print(\"Shape of training_data: \", training_data_array.shape)\n",
    "    labels_array = np.array(labels)\n",
    "    print(\"Shape of labels: \", labels_array.shape)\n",
    "    \n",
    "    return training_data_array, labels_array"
   ]
  },
  {
   "cell_type": "code",
   "execution_count": 86,
   "metadata": {},
   "outputs": [
    {
     "name": "stdout",
     "output_type": "stream",
     "text": [
      "Shape of training_data:  (3316, 256, 256, 3)\n",
      "Shape of labels:  (3316,)\n"
     ]
    }
   ],
   "source": [
    "training_data, labels = loadTrainingDataAndLabels(\"data/training_patches/\", [\"background\", \"ponds\", \"pools\", \"solar\", \"trampoline\"])"
   ]
  },
  {
   "cell_type": "code",
   "execution_count": 87,
   "metadata": {},
   "outputs": [],
   "source": [
    "from sklearn.model_selection import train_test_split\n",
    "\n",
    "X_train, X_val, y_train, y_val = train_test_split(training_data, labels, test_size=0.33, random_state=1, stratify=labels)"
   ]
  },
  {
   "cell_type": "code",
   "execution_count": 88,
   "metadata": {},
   "outputs": [
    {
     "name": "stdout",
     "output_type": "stream",
     "text": [
      "Shape of X_train:  (2221, 256, 256, 3)\n",
      "Shape of y_train:  (2221,)\n",
      "Shape of X_val:  (1095, 256, 256, 3)\n",
      "Shape of y_val:  (1095,)\n"
     ]
    }
   ],
   "source": [
    "print(\"Shape of X_train: \", X_train.shape)\n",
    "print(\"Shape of y_train: \", y_train.shape)\n",
    "print(\"Shape of X_val: \", X_val.shape)\n",
    "print(\"Shape of y_val: \", y_val.shape)"
   ]
  },
  {
   "cell_type": "markdown",
   "metadata": {},
   "source": [
    "## Data Augmentation"
   ]
  },
  {
   "cell_type": "markdown",
   "metadata": {},
   "source": [
    "## Model Selection"
   ]
  },
  {
   "cell_type": "markdown",
   "metadata": {},
   "source": [
    "### Feature Extraction with ConvNet"
   ]
  },
  {
   "cell_type": "code",
   "execution_count": 89,
   "metadata": {},
   "outputs": [],
   "source": [
    "from tensorflow import keras\n",
    "import numpy as np"
   ]
  },
  {
   "cell_type": "code",
   "execution_count": 90,
   "metadata": {},
   "outputs": [
    {
     "name": "stdout",
     "output_type": "stream",
     "text": [
      "Model: \"sequential_6\"\n",
      "_________________________________________________________________\n",
      "Layer (type)                 Output Shape              Param #   \n",
      "=================================================================\n",
      "inception_v3 (Functional)    (None, 2048)              21802784  \n",
      "_________________________________________________________________\n",
      "flatten_5 (Flatten)          (None, 2048)              0         \n",
      "_________________________________________________________________\n",
      "batch_normalization_678 (Bat (None, 2048)              8192      \n",
      "_________________________________________________________________\n",
      "dense_20 (Dense)             (None, 256)               524544    \n",
      "_________________________________________________________________\n",
      "dropout_15 (Dropout)         (None, 256)               0         \n",
      "_________________________________________________________________\n",
      "batch_normalization_679 (Bat (None, 256)               1024      \n",
      "_________________________________________________________________\n",
      "dense_21 (Dense)             (None, 128)               32896     \n",
      "_________________________________________________________________\n",
      "dropout_16 (Dropout)         (None, 128)               0         \n",
      "_________________________________________________________________\n",
      "batch_normalization_680 (Bat (None, 128)               512       \n",
      "_________________________________________________________________\n",
      "dense_22 (Dense)             (None, 64)                8256      \n",
      "_________________________________________________________________\n",
      "dropout_17 (Dropout)         (None, 64)                0         \n",
      "_________________________________________________________________\n",
      "batch_normalization_681 (Bat (None, 64)                256       \n",
      "_________________________________________________________________\n",
      "dense_23 (Dense)             (None, 5)                 325       \n",
      "=================================================================\n",
      "Total params: 22,378,789\n",
      "Trainable params: 571,013\n",
      "Non-trainable params: 21,807,776\n",
      "_________________________________________________________________\n"
     ]
    }
   ],
   "source": [
    "base_model = keras.applications.InceptionV3(weights=\"imagenet\", include_top=False, pooling=\"avg\", input_shape=(256, 256, 3))\n",
    "\n",
    "model=keras.models.Sequential()\n",
    "model.add(base_model)\n",
    "model.add(keras.layers.Flatten())\n",
    "model.add(keras.layers.BatchNormalization())\n",
    "model.add(keras.layers.Dense(256, activation='relu'))\n",
    "model.add(keras.layers.Dropout(0.5))\n",
    "model.add(keras.layers.BatchNormalization())\n",
    "model.add(keras.layers.Dense(128, activation='relu'))\n",
    "model.add(keras.layers.Dropout(0.5))\n",
    "model.add(keras.layers.BatchNormalization())\n",
    "model.add(keras.layers.Dense(64, activation='relu'))\n",
    "model.add(keras.layers.Dropout(0.5))\n",
    "model.add(keras.layers.BatchNormalization())\n",
    "model.add(keras.layers.Dense(5, activation='softmax'))\n",
    "\n",
    "\n",
    "for layer in base_model.layers:\n",
    "    layer.trainable = False\n",
    "\n",
    "model.summary()"
   ]
  },
  {
   "cell_type": "code",
   "execution_count": 91,
   "metadata": {},
   "outputs": [
    {
     "name": "stdout",
     "output_type": "stream",
     "text": [
      "Model: \"sequential_6\"\n",
      "_________________________________________________________________\n",
      "Layer (type)                 Output Shape              Param #   \n",
      "=================================================================\n",
      "inception_v3 (Functional)    (None, 2048)              21802784  \n",
      "_________________________________________________________________\n",
      "flatten_5 (Flatten)          (None, 2048)              0         \n",
      "_________________________________________________________________\n",
      "batch_normalization_678 (Bat (None, 2048)              8192      \n",
      "_________________________________________________________________\n",
      "dense_20 (Dense)             (None, 256)               524544    \n",
      "_________________________________________________________________\n",
      "dropout_15 (Dropout)         (None, 256)               0         \n",
      "_________________________________________________________________\n",
      "batch_normalization_679 (Bat (None, 256)               1024      \n",
      "_________________________________________________________________\n",
      "dense_21 (Dense)             (None, 128)               32896     \n",
      "_________________________________________________________________\n",
      "dropout_16 (Dropout)         (None, 128)               0         \n",
      "_________________________________________________________________\n",
      "batch_normalization_680 (Bat (None, 128)               512       \n",
      "_________________________________________________________________\n",
      "dense_22 (Dense)             (None, 64)                8256      \n",
      "_________________________________________________________________\n",
      "dropout_17 (Dropout)         (None, 64)                0         \n",
      "_________________________________________________________________\n",
      "batch_normalization_681 (Bat (None, 64)                256       \n",
      "_________________________________________________________________\n",
      "dense_23 (Dense)             (None, 5)                 325       \n",
      "=================================================================\n",
      "Total params: 22,378,789\n",
      "Trainable params: 571,013\n",
      "Non-trainable params: 21,807,776\n",
      "_________________________________________________________________\n"
     ]
    }
   ],
   "source": [
    "model.compile(loss=\"categorical_crossentropy\", optimizer=\"adam\", metrics=[\"accuracy\"])\n",
    "model.summary()"
   ]
  },
  {
   "cell_type": "code",
   "execution_count": 92,
   "metadata": {},
   "outputs": [
    {
     "data": {
      "text/plain": [
       "(2221, 5)"
      ]
     },
     "execution_count": 92,
     "metadata": {},
     "output_type": "execute_result"
    }
   ],
   "source": [
    "from keras.applications.inception_v3 import preprocess_input\n",
    "\n",
    "X_train_preprocessed = preprocess_input(np.copy(X_train))\n",
    "X_val_preprocessed = preprocess_input(np.copy(X_val))\n",
    "\n",
    "# One-Hot Encoding y_train\n",
    "y_train_encoded = pd.get_dummies(y_train)\n",
    "y_train_encoded.shape"
   ]
  },
  {
   "cell_type": "code",
   "execution_count": 93,
   "metadata": {},
   "outputs": [
    {
     "name": "stdout",
     "output_type": "stream",
     "text": [
      "Epoch 1/10\n",
      "63/63 [==============================] - 9s 98ms/step - loss: 1.8425 - accuracy: 0.2968 - val_loss: 0.8527 - val_accuracy: 0.8924\n",
      "Epoch 2/10\n",
      "63/63 [==============================] - 5s 83ms/step - loss: 1.1798 - accuracy: 0.5696 - val_loss: 0.5590 - val_accuracy: 0.9327\n",
      "Epoch 3/10\n",
      "63/63 [==============================] - 5s 81ms/step - loss: 0.7014 - accuracy: 0.8013 - val_loss: 0.3324 - val_accuracy: 0.9372\n",
      "Epoch 4/10\n",
      "63/63 [==============================] - 5s 80ms/step - loss: 0.4245 - accuracy: 0.8944 - val_loss: 0.2608 - val_accuracy: 0.9417\n",
      "Epoch 5/10\n",
      "63/63 [==============================] - 5s 80ms/step - loss: 0.3078 - accuracy: 0.9344 - val_loss: 0.2545 - val_accuracy: 0.9462\n",
      "Epoch 6/10\n",
      "63/63 [==============================] - 5s 81ms/step - loss: 0.2563 - accuracy: 0.9419 - val_loss: 0.2588 - val_accuracy: 0.9417\n",
      "Epoch 7/10\n",
      "63/63 [==============================] - 5s 83ms/step - loss: 0.2157 - accuracy: 0.9510 - val_loss: 0.2665 - val_accuracy: 0.9462\n",
      "Epoch 8/10\n",
      "63/63 [==============================] - 5s 82ms/step - loss: 0.2066 - accuracy: 0.9525 - val_loss: 0.2655 - val_accuracy: 0.9507\n",
      "Epoch 9/10\n",
      "63/63 [==============================] - 5s 82ms/step - loss: 0.1886 - accuracy: 0.9530 - val_loss: 0.2814 - val_accuracy: 0.9417\n",
      "Epoch 10/10\n",
      "63/63 [==============================] - 5s 87ms/step - loss: 0.1709 - accuracy: 0.9590 - val_loss: 0.2786 - val_accuracy: 0.9417\n"
     ]
    }
   ],
   "source": [
    "history = model.fit(X_train_preprocessed, \n",
    "                    y_train_encoded, \n",
    "                    epochs=10,\n",
    "                    batch_size=32,\n",
    "                    validation_split=0.1\n",
    "                   )"
   ]
  },
  {
   "cell_type": "code",
   "execution_count": 94,
   "metadata": {},
   "outputs": [
    {
     "name": "stdout",
     "output_type": "stream",
     "text": [
      "Shape of encoded predictions  (2221, 5)\n",
      "Shape of validation data features (1095, 5)\n"
     ]
    }
   ],
   "source": [
    "import pandas as pd\n",
    "\n",
    "predictions_train_encoded = pd.DataFrame(model.predict(X_train_preprocessed), columns=[\"background\", \"ponds\", \"pools\", \"solar\", \"trampoline\"])\n",
    "predictions_val_encoded = pd.DataFrame(model.predict(X_val_preprocessed), columns=[\"background\", \"ponds\", \"pools\", \"solar\", \"trampoline\"])\n",
    "\n",
    "print(\"Shape of encoded predictions \", predictions_train_encoded.shape)\n",
    "print(\"Shape of validation data features\", predictions_val_encoded.shape)"
   ]
  },
  {
   "cell_type": "code",
   "execution_count": 96,
   "metadata": {},
   "outputs": [
    {
     "name": "stdout",
     "output_type": "stream",
     "text": [
      "Accuracy on validation data:  0.9598173515981735\n"
     ]
    },
    {
     "data": {
      "text/plain": [
       "0    background\n",
       "1    background\n",
       "2    background\n",
       "3    background\n",
       "4    background\n",
       "dtype: object"
      ]
     },
     "execution_count": 96,
     "metadata": {},
     "output_type": "execute_result"
    }
   ],
   "source": [
    "from sklearn.metrics import accuracy_score\n",
    "\n",
    "predictions_train = predictions_train_encoded.idxmax(1)\n",
    "predictions_val = predictions_val_encoded.idxmax(1)\n",
    "\n",
    "print(\"Accuracy on validation data: \", accuracy_score(y_val, predictions_val))\n",
    "predictions_train.head()\n"
   ]
  },
  {
   "cell_type": "code",
   "execution_count": 97,
   "metadata": {},
   "outputs": [
    {
     "data": {
      "image/png": "[encoded data removed]",
      "text/plain": [
       "<Figure size 1080x1080 with 2 Axes>"
      ]
     },
     "metadata": {
      "needs_background": "light"
     },
     "output_type": "display_data"
    }
   ],
   "source": [
    "from sklearn.metrics import confusion_matrix, classification_report, ConfusionMatrixDisplay\n",
    "\n",
    "cm = confusion_matrix(y_val, predictions_val, labels=[\"background\", \"ponds\", \"pools\", \"solar\", \"trampoline\"])\n",
    "\n",
    "color = 'red'\n",
    "fig, ax = plt.subplots(figsize=(15,15))\n",
    "matrix = ConfusionMatrixDisplay.from_predictions(y_val, predictions_val, labels=[\"background\", \"ponds\", \"pools\", \"solar\", \"trampoline\"], cmap=plt.cm.Blues, xticks_rotation='vertical', ax=ax)\n",
    "matrix.ax_.set_title('Confusion Matrix', color=color)\n",
    "plt.xlabel('Predicted Label', color=color)\n",
    "plt.ylabel('True Label', color=color)\n",
    "plt.gcf().axes[0].tick_params(colors=color)\n",
    "plt.gcf().axes[1].tick_params(colors=color)\n",
    "plt.show()"
   ]
  },
  {
   "cell_type": "markdown",
   "metadata": {},
   "source": [
    "## Making predictions\n"
   ]
  },
  {
   "cell_type": "code",
   "execution_count": 98,
   "metadata": {},
   "outputs": [],
   "source": [
    "from tensorflow import keras\n",
    "from PIL import Image\n",
    "from keras.applications.inception_v3 import preprocess_input\n",
    "from keras import Model\n",
    "import time\n",
    "import pandas as pd"
   ]
  },
  {
   "cell_type": "code",
   "execution_count": 106,
   "metadata": {},
   "outputs": [],
   "source": [
    "def makePredictions(path:str, convnet:keras.Model, stepSize:int, windowSize:tuple[int, int]):\n",
    "    '''\n",
    "    Traverses a folder that contains images for which predictions should be made.\\n\n",
    "    Creates a separate prediction CSV file for each image.\n",
    "\n",
    "    @path - The path containing the images for which predictions should be created.\n",
    "    '''\n",
    "\n",
    "    # For each image in path\n",
    "        # Perform sliding Window approach\n",
    "            # For each slide\n",
    "            # Store x_upper_left, y_upper_left, x_lower_right, y_lower_right\n",
    "            # Run image through convnet\n",
    "            # Run classifier on output\n",
    "            # If prediction != 'background'\n",
    "            # Store prediction in temp array\n",
    "        # Run non-max suppression to filter predictions\n",
    "        # Store predictions in csv\n",
    "    for file in os.scandir(path):\n",
    "        filepath = os.fsdecode(file)\n",
    "        \n",
    "        if((\"annotated\" in filepath) or not (filepath.endswith(\".jpg\") or filepath.endswith(\".png\"))):\n",
    "           continue\n",
    "        \n",
    "        createPredictionsForImage(filepath=filepath, convnet=convnet, stepSize=stepSize, windowSize=windowSize)\n",
    "\n",
    "\n",
    "def createPredictionsForImage(filepath:str, convnet:keras.Model, stepSize:int, windowSize:tuple[int,int]):\n",
    "    '''\n",
    "    Creates the prediction CSV for one image.\n",
    "    '''\n",
    "\n",
    "    print(\"\\nCreating predictions for file: \", filepath)\n",
    "    create_predictions_start_time = time.time()\n",
    "    #image = Image.open(filepath)\n",
    "    imgArray = np.array(Image.open(filepath))\n",
    "    \n",
    "    patch_coordinates= []  \n",
    "    preprocessed_patches = []\n",
    "    counter = 0\n",
    "    patch_preprocessing_start_time = time.time()\n",
    "    \n",
    "    print(\"Starting sliding window to create patches of size: \", windowSize[0], \"x\", windowSize[1], \".\")\n",
    "    for(x,y,patch) in sliding_window(imageArray=imgArray, stepSize=stepSize, windowSize=windowSize):\n",
    "        if counter > 0 and counter%10000 == 0:\n",
    "            print(\"Still processing, reached patch\", counter)\n",
    "            print(\"Execution time for the last 10.000 patches: \", time.time()-patch_preprocessing_start_time, \" seconds.\")\n",
    "            patch_preprocessing_start_time = time.time()\n",
    "            print(\"Processing continues...\")\n",
    "        \n",
    "        # Skip if the size of a patch doesn't match the specified windowSize\n",
    "        if patch.shape[0] != windowSize[0] or patch.shape[1] != windowSize[1]:\n",
    "            continue\n",
    "    \n",
    "        # Save coordinates which are needed for a prediction\n",
    "        x_upper_left = x\n",
    "        y_upper_left = y\n",
    "        x_lower_right = x+windowSize[0]\n",
    "        y_lower_right = y+windowSize[1]\n",
    "        x_center = x+128\n",
    "        y_center = y+128\n",
    "\n",
    "        # Run the patch through the classification\n",
    "        preprocessed_patch = preprocess_input(patch)\n",
    "        preprocessed_patches.append(preprocessed_patch)\n",
    "        patch_coordinates.append([y_upper_left, x_upper_left, y_lower_right, x_lower_right])\n",
    "        counter +=1\n",
    "    \n",
    "    print(\"Finished preprocessing of the patches.\")\n",
    "    preprocessed_patches = np.array(preprocessed_patches)\n",
    "    patch_coordinates = np.array(patch_coordinates)\n",
    "    print(\"Shape of preprocessed patches: \", preprocessed_patches.shape)\n",
    "    print(\"Shape of patch coordinates: \", patch_coordinates.shape, \"\\n\")\n",
    "\n",
    "    # Get all predictions\n",
    "    print(\"Running patches through ConvNet and using classifier to predict labels...\")\n",
    "    prediction_start_time = time.time()\n",
    "    predicted_labels_encoded = pd.DataFrame(convnet.predict(preprocessed_patches), columns=[\"background\", \"ponds\", \"pools\", \"solar\", \"trampoline\"])\n",
    "    predicted_labels= predicted_labels_encoded.idxmax(1)\n",
    "    \n",
    "    print(\"Finished predictions, execution time: \", time.time()-prediction_start_time, \" seconds.\\n\")\n",
    "    \n",
    "    print(\"Shape of predicted_labels: \", labels.shape)\n",
    "    print(\"Shape of patch_coordinates: \", patch_coordinates.shape)\n",
    "\n",
    "    # Combining patch coordinates and predictions\n",
    "    predictions_array=np.c_[predicted_labels, patch_coordinates]\n",
    "\n",
    "    print(\"Shape of combined predictions array (unfiltered): \", predictions_array.shape)\n",
    "\n",
    "    predictions_dataframe = pd.DataFrame(data=predictions_array, columns=[\"label\", \"y_upper_left\", \"x_upper_left\", \"y_lower_right\", \"x_lower_right\"])\n",
    "    # Filter all predictions that contain the label \"background\"\n",
    "    predictions_dataframe = predictions_dataframe[predictions_dataframe.label != \"background\"]\n",
    "    print(\"Description of the predictions dataframe: \", predictions_dataframe.describe())\n",
    "\n",
    "    # Save prediction to csv\n",
    "    savePredictionToCsv(predictionDataframe=predictions_dataframe, filepath=filepath)\n",
    "    print(\"Saved predictions for file: \", filepath, \"\\n\")\n",
    "    print(\"Elapsed time: \", time.time()-create_predictions_start_time, \" seconds.\\n\")\n",
    "\n",
    "    \n",
    "def sliding_window(imageArray, stepSize:int, windowSize:tuple[int, int]=(256,256)):\n",
    "    for y in range(0, imageArray.shape[0], stepSize):\n",
    "\t    for x in range(0, imageArray.shape[1], stepSize):\n",
    "\t\t\t# yield the current window\n",
    "\t\t    yield (x, y, imageArray[y:y + windowSize[1], x:x + windowSize[0]])\n"
   ]
  },
  {
   "cell_type": "code",
   "execution_count": 107,
   "metadata": {},
   "outputs": [
    {
     "data": {
      "text/plain": [
       "15380"
      ]
     },
     "execution_count": 107,
     "metadata": {},
     "output_type": "execute_result"
    }
   ],
   "source": [
    "import gc\n",
    "preprocessed_patches = None\n",
    "del preprocessed_patches\n",
    "patch_coordinates = None\n",
    "del patch_coordinates\n",
    "X_train = None\n",
    "del X_train\n",
    "X_val = None \n",
    "del X_val\n",
    "y_train = None\n",
    "del y_train\n",
    "y_val = None\n",
    "training_data = None\n",
    "del training_data\n",
    "X_train_preprocessed = None\n",
    "del X_train_preprocessed\n",
    "gc.collect()"
   ]
  },
  {
   "cell_type": "code",
   "execution_count": 108,
   "metadata": {},
   "outputs": [
    {
     "name": "stdout",
     "output_type": "stream",
     "text": [
      "\n",
      "Creating predictions for file:  ./data/single_validation_image/DQIMQN.png\n",
      "Starting sliding window to create patches of size:  256 x 256 .\n",
      "Still processing, reached patch 10000\n",
      "Execution time for the last 10.000 patches:  3.75296688079834  seconds.\n",
      "Processing continues...\n",
      "Finished preprocessing of the patches.\n",
      "Shape of preprocessed patches:  (14884, 256, 256, 3)\n",
      "Shape of patch coordinates:  (14884, 4) \n",
      "\n",
      "Running patches through ConvNet and using classifier to predict labels...\n",
      "Finished predictions, execution time:  29.510068655014038  seconds.\n",
      "\n",
      "Shape of predicted_labels:  (3316,)\n",
      "Shape of patch_coordinates:  (14884, 4)\n",
      "Shape of combined predictions array (unfiltered):  (14884, 5)\n",
      "Description of the predictions dataframe:               label  y_upper_left  x_upper_left  y_lower_right  x_lower_right\n",
      "count          126           126           126            126            126\n",
      "unique           1            47            59             47             59\n",
      "top     trampoline            64          5632            320           5888\n",
      "freq           126             9             5              9              5\n",
      "Saved predictions for file:  ./data/single_validation_image/DQIMQN.png \n",
      "\n",
      "Elapsed time:  57.69714570045471  seconds.\n",
      "\n",
      "\n",
      "Creating predictions for file:  ./data/single_validation_image/DQIMQN_annotated.jpg\n",
      "Starting sliding window to create patches of size:  256 x 256 .\n",
      "Still processing, reached patch 10000\n",
      "Execution time for the last 10.000 patches:  4.777357578277588  seconds.\n",
      "Processing continues...\n",
      "Finished preprocessing of the patches.\n"
     ]
    },
    {
     "ename": "MemoryError",
     "evalue": "Unable to allocate 10.9 GiB for an array with shape (14884, 256, 256, 3) and data type float32",
     "output_type": "error",
     "traceback": [
      "\u001b[1;31m---------------------------------------------------------------------------\u001b[0m",
      "\u001b[1;31mMemoryError\u001b[0m                               Traceback (most recent call last)",
      "\u001b[1;32m<ipython-input-108-d828b47c5b26>\u001b[0m in \u001b[0;36m<module>\u001b[1;34m\u001b[0m\n\u001b[1;32m----> 1\u001b[1;33m \u001b[0mmakePredictions\u001b[0m\u001b[1;33m(\u001b[0m\u001b[1;34m\"./data/single_validation_image/\"\u001b[0m\u001b[1;33m,\u001b[0m \u001b[0mconvnet\u001b[0m\u001b[1;33m=\u001b[0m\u001b[0mmodel\u001b[0m\u001b[1;33m,\u001b[0m \u001b[0mstepSize\u001b[0m\u001b[1;33m=\u001b[0m\u001b[1;36m64\u001b[0m\u001b[1;33m,\u001b[0m \u001b[0mwindowSize\u001b[0m\u001b[1;33m=\u001b[0m\u001b[1;33m(\u001b[0m\u001b[1;36m256\u001b[0m\u001b[1;33m,\u001b[0m\u001b[1;36m256\u001b[0m\u001b[1;33m)\u001b[0m\u001b[1;33m)\u001b[0m\u001b[1;33m\u001b[0m\u001b[1;33m\u001b[0m\u001b[0m\n\u001b[0m",
      "\u001b[1;32m<ipython-input-106-ce3bedd9a600>\u001b[0m in \u001b[0;36mmakePredictions\u001b[1;34m(path, convnet, stepSize, windowSize)\u001b[0m\n\u001b[0;32m     23\u001b[0m            \u001b[1;32mcontinue\u001b[0m\u001b[1;33m\u001b[0m\u001b[1;33m\u001b[0m\u001b[0m\n\u001b[0;32m     24\u001b[0m \u001b[1;33m\u001b[0m\u001b[0m\n\u001b[1;32m---> 25\u001b[1;33m         \u001b[0mcreatePredictionsForImage\u001b[0m\u001b[1;33m(\u001b[0m\u001b[0mfilepath\u001b[0m\u001b[1;33m=\u001b[0m\u001b[0mfilepath\u001b[0m\u001b[1;33m,\u001b[0m \u001b[0mconvnet\u001b[0m\u001b[1;33m=\u001b[0m\u001b[0mconvnet\u001b[0m\u001b[1;33m,\u001b[0m \u001b[0mstepSize\u001b[0m\u001b[1;33m=\u001b[0m\u001b[0mstepSize\u001b[0m\u001b[1;33m,\u001b[0m \u001b[0mwindowSize\u001b[0m\u001b[1;33m=\u001b[0m\u001b[0mwindowSize\u001b[0m\u001b[1;33m)\u001b[0m\u001b[1;33m\u001b[0m\u001b[1;33m\u001b[0m\u001b[0m\n\u001b[0m\u001b[0;32m     26\u001b[0m \u001b[1;33m\u001b[0m\u001b[0m\n\u001b[0;32m     27\u001b[0m \u001b[1;33m\u001b[0m\u001b[0m\n",
      "\u001b[1;32m<ipython-input-106-ce3bedd9a600>\u001b[0m in \u001b[0;36mcreatePredictionsForImage\u001b[1;34m(filepath, convnet, stepSize, windowSize)\u001b[0m\n\u001b[0;32m     68\u001b[0m \u001b[1;33m\u001b[0m\u001b[0m\n\u001b[0;32m     69\u001b[0m     \u001b[0mprint\u001b[0m\u001b[1;33m(\u001b[0m\u001b[1;34m\"Finished preprocessing of the patches.\"\u001b[0m\u001b[1;33m)\u001b[0m\u001b[1;33m\u001b[0m\u001b[1;33m\u001b[0m\u001b[0m\n\u001b[1;32m---> 70\u001b[1;33m     \u001b[0mpreprocessed_patches\u001b[0m \u001b[1;33m=\u001b[0m \u001b[0mnp\u001b[0m\u001b[1;33m.\u001b[0m\u001b[0marray\u001b[0m\u001b[1;33m(\u001b[0m\u001b[0mpreprocessed_patches\u001b[0m\u001b[1;33m)\u001b[0m\u001b[1;33m\u001b[0m\u001b[1;33m\u001b[0m\u001b[0m\n\u001b[0m\u001b[0;32m     71\u001b[0m     \u001b[0mpatch_coordinates\u001b[0m \u001b[1;33m=\u001b[0m \u001b[0mnp\u001b[0m\u001b[1;33m.\u001b[0m\u001b[0marray\u001b[0m\u001b[1;33m(\u001b[0m\u001b[0mpatch_coordinates\u001b[0m\u001b[1;33m)\u001b[0m\u001b[1;33m\u001b[0m\u001b[1;33m\u001b[0m\u001b[0m\n\u001b[0;32m     72\u001b[0m     \u001b[0mprint\u001b[0m\u001b[1;33m(\u001b[0m\u001b[1;34m\"Shape of preprocessed patches: \"\u001b[0m\u001b[1;33m,\u001b[0m \u001b[0mpreprocessed_patches\u001b[0m\u001b[1;33m.\u001b[0m\u001b[0mshape\u001b[0m\u001b[1;33m)\u001b[0m\u001b[1;33m\u001b[0m\u001b[1;33m\u001b[0m\u001b[0m\n",
      "\u001b[1;31mMemoryError\u001b[0m: Unable to allocate 10.9 GiB for an array with shape (14884, 256, 256, 3) and data type float32"
     ]
    }
   ],
   "source": [
    "makePredictions(\"./data/single_validation_image/\", convnet=model, stepSize=64, windowSize=(256,256))\n"
   ]
  },
  {
   "cell_type": "markdown",
   "metadata": {},
   "source": [
    "## Model Validation"
   ]
  },
  {
   "cell_type": "markdown",
   "metadata": {},
   "source": [
    "This section contains code that is needed to create predictions, save them and to print the training / validation images - either with or without the predicted bounding boxes."
   ]
  },
  {
   "cell_type": "code",
   "execution_count": 29,
   "metadata": {},
   "outputs": [],
   "source": [
    "from PIL import Image\n",
    "import matplotlib.pyplot as plt\n",
    "import cv2 as cv\n",
    "import pandas as pd\n",
    "from pathlib import Path"
   ]
  },
  {
   "cell_type": "code",
   "execution_count": 35,
   "metadata": {},
   "outputs": [],
   "source": [
    "def savePredictionToCsv(predictionDataframe: pd.DataFrame, filepath:str):\n",
    "    '''\n",
    "    Saves a dataframe containing the prediction for a single image to a CSV file.\n",
    "\n",
    "    @predictionDataFrame - The dataframe that contains the predictions and should be saved.\\n\n",
    "    @path - The path under which the CSV file should be saved.\n",
    "    @filename - The name under which the CSV file should be saved.\n",
    "    '''\n",
    "    filepath =  os.path.splitext(filepath)[0]+\".csv\"\n",
    "    predictionDataframe.to_csv(filepath, sep=\",\", index=False)\n",
    "\n",
    "def makeFakePredictions(path:str):\n",
    "    '''\n",
    "    Traverses a folder that contains images for which predictions should be made.\\n\n",
    "    Creates a separate prediction CSV file for each image.\n",
    "\n",
    "    @path - The path containing the images for which predictions should be created.\n",
    "    '''\n",
    "    fake_predictions = {\"label\":[\"something\"], \"y_upper_left\": [100], \"x_upper_left\":[100], \"y_lower_right\":[356], \"x_lower_right\":[356]}\n",
    "    dataframe = pd.DataFrame(data=fake_predictions)\n",
    "    counter = 0\n",
    "    for file in os.scandir(path):\n",
    "        filepath = os.fsdecode(file)\n",
    "\n",
    "        if(not (filepath.endswith(\".jpg\") or filepath.endswith(\".png\")) or (\"annotated\" in filepath)):\n",
    "            continue\n",
    "        print(\"Making prediction for file: \", file.name) \n",
    "        savePredictionToCsv(dataframe, filepath)\n",
    "        counter += 1\n",
    "    print(\"Created \",counter, \" predictions.\")\n",
    "\n",
    "def saveOrPrintImages(path:str, print_to_output:bool=False, valBoundingBoxes: bool = False, thickness: int = 2, saveImagesPath:str=\"\"):\n",
    "    '''\n",
    "    Loads and saves all .jpg and .png files from the specified directory.\\n\n",
    "\n",
    "    @print - If set to True, will print the (annotated) images to the output (takes some time). Default value is False.\n",
    "\n",
    "    @valBoundingBoxes If set to true, the method will load the bounding box data from the csv files. The default for this is False.\\n\n",
    "  \n",
    "    @thickness parameter determines how thick the bounding boxes are drawn on the image (width of the line in pixels). The default value is 2.\\n\n",
    "\n",
    "    @saveImagesPath If specified will save the drawn images at the specified path.\n",
    "\n",
    "    '''\n",
    "    for file in os.scandir(path):\n",
    "        filepath = os.fsdecode(file)\n",
    "       \n",
    "\n",
    "        if(not (filepath.endswith(\".jpg\") or filepath.endswith(\".png\"))  or (\"annotated\" in filepath)):\n",
    "            continue\n",
    "\n",
    "        print(\"Saving / printing file: \",os.path.splitext(file.name)[0],\"_annotated.jpg\")\n",
    "        image = cv.imread(filepath) \n",
    "        \n",
    "        if(valBoundingBoxes):\n",
    "            image = addBoundingBoxesFromCsv(image, filepath, thickness)\n",
    "\n",
    "        image = cv.cvtColor(image, cv.COLOR_BGR2RGB)\n",
    "        # Convert to PIL format\n",
    "        image = Image.fromarray(image)\n",
    "        if(saveImagesPath):\n",
    "            image.save(saveImagesPath+\"/\"+ os.path.splitext(file.name)[0]+\"_annotated.jpg\", \"JPEG\")\n",
    "\n",
    "        if(print_to_output):\n",
    "            image.show()\n",
    "        \n",
    "\n",
    "def addBoundingBoxesFromCsv(image: cv.Mat, filepath:str, thickness: int) -> cv.Mat:\n",
    "    '''\n",
    "    Uses a csv file containing the predictions for a single image to draw bounding boxes into an image.\\n\n",
    "\n",
    "    Performs the changes in place and returns the modified image.\n",
    "    The image parameter specifies the image to be modified.\n",
    "    The filepath must contain the path of the csv file that contains the bounding box predictions for this image.\n",
    "    '''\n",
    "    csvPath = os.path.splitext(filepath)[0]+\".csv\"\n",
    "    boundingBoxesDataframe = pd.read_csv(csvPath, delimiter=\",\", header=0 )\n",
    "\n",
    "    for index,boundingBox in boundingBoxesDataframe.iterrows():\n",
    "        label = boundingBox[0]\n",
    "        start_point = (boundingBox[\"x_upper_left\"],boundingBox[\"y_upper_left\"])\n",
    "        end_point = (boundingBox[\"x_lower_right\"], boundingBox[\"y_lower_right\"])\n",
    "\n",
    "        color:str\n",
    "        \n",
    "        if(label== \"background\"):\n",
    "            color=(255,255,255) # (BGR) White\n",
    "        elif(label == \"pool\"):\n",
    "            color=(255,255,0) # (BGR) Cyan\n",
    "        elif(label == \"pond\"):\n",
    "            color=(0,128,0) # (BGR) Green\n",
    "        elif(label == \"solar\"):\n",
    "            color=(255,0,0) # (BGR) Blue\n",
    "        elif(label == \"trampoline\"):\n",
    "            color=(0,255,255) # (BGR) Yellow\n",
    "        else:\n",
    "            color=(180,105,255) # (BGR) Pink if no label present\n",
    "        image = cv.rectangle(image, start_point, end_point, color, thickness=thickness)\n",
    "    \n",
    "    return image"
   ]
  },
  {
   "cell_type": "markdown",
   "metadata": {},
   "source": [
    "### Model Validation (Custom Model)"
   ]
  },
  {
   "cell_type": "code",
   "execution_count": 36,
   "metadata": {},
   "outputs": [
    {
     "name": "stdout",
     "output_type": "stream",
     "text": [
      "Saving / printing file:  DQIMQN _annotated.jpg\n"
     ]
    }
   ],
   "source": [
    "saveOrPrintImages(path=\"./data/single_validation_image/\", print_to_output=False, valBoundingBoxes=True,saveImagesPath=\"./data/single_validation_image/\", thickness=5)"
   ]
  },
  {
   "cell_type": "markdown",
   "metadata": {},
   "source": [
    "### Model Validation (Unlabeled Training Data)"
   ]
  },
  {
   "cell_type": "markdown",
   "metadata": {},
   "source": [
    "This section prints the unlabeled training images along with bounding boxes that are retrieved from the corresponding CSV files."
   ]
  },
  {
   "cell_type": "code",
   "execution_count": 7,
   "metadata": {},
   "outputs": [
    {
     "name": "stdout",
     "output_type": "stream",
     "text": [
      "Making prediction for file:  0FRGJD.png\n",
      "Making prediction for file:  3938J9.png\n",
      "Making prediction for file:  6ATLJM.png\n",
      "Making prediction for file:  6FPS9I.png\n",
      "Making prediction for file:  73COYK.png\n",
      "Making prediction for file:  9Q69FH.png\n",
      "Making prediction for file:  B7DBOX.png\n",
      "Making prediction for file:  BFVATM.png\n",
      "Making prediction for file:  CM380U.png\n",
      "Making prediction for file:  DHX1Z3.png\n",
      "Making prediction for file:  FML5SH.png\n",
      "Making prediction for file:  G8MS91.png\n",
      "Making prediction for file:  JBN1LY.png\n",
      "Making prediction for file:  NNP6V0.png\n",
      "Making prediction for file:  P5L1VO.png\n",
      "Making prediction for file:  RXRIIW.png\n",
      "Making prediction for file:  S9CT2G.png\n",
      "Making prediction for file:  W0E9JC.png\n",
      "Making prediction for file:  W4XC08.png\n",
      "Making prediction for file:  XRZXKK.png\n",
      "Created  20  predictions.\n",
      "Saving / printing file:  0FRGJD _annotated.jpg\n",
      "Saving / printing file:  3938J9 _annotated.jpg\n",
      "Saving / printing file:  6ATLJM _annotated.jpg\n",
      "Saving / printing file:  6FPS9I _annotated.jpg\n",
      "Saving / printing file:  73COYK _annotated.jpg\n",
      "Saving / printing file:  9Q69FH _annotated.jpg\n",
      "Saving / printing file:  B7DBOX _annotated.jpg\n",
      "Saving / printing file:  BFVATM _annotated.jpg\n",
      "Saving / printing file:  CM380U _annotated.jpg\n",
      "Saving / printing file:  DHX1Z3 _annotated.jpg\n",
      "Saving / printing file:  FML5SH _annotated.jpg\n",
      "Saving / printing file:  G8MS91 _annotated.jpg\n",
      "Saving / printing file:  JBN1LY _annotated.jpg\n",
      "Saving / printing file:  NNP6V0 _annotated.jpg\n",
      "Saving / printing file:  P5L1VO _annotated.jpg\n",
      "Saving / printing file:  RXRIIW _annotated.jpg\n",
      "Saving / printing file:  S9CT2G _annotated.jpg\n",
      "Saving / printing file:  W0E9JC _annotated.jpg\n",
      "Saving / printing file:  W4XC08 _annotated.jpg\n",
      "Saving / printing file:  XRZXKK _annotated.jpg\n"
     ]
    }
   ],
   "source": [
    "makeFakePredictions(path=\"./data/unlabeled_training_data/\")\n",
    "saveOrPrintImages(path=\"./data/unlabeled_training_data/\", print_to_output=False, valBoundingBoxes=True,saveImagesPath=\"./data/unlabeled_training_data/\", thickness=5)"
   ]
  },
  {
   "cell_type": "markdown",
   "metadata": {},
   "source": [
    "## Printing the validation images"
   ]
  },
  {
   "cell_type": "markdown",
   "metadata": {},
   "source": [
    "This section prints the public test data images along with their respective predictions / bounding boxes."
   ]
  },
  {
   "cell_type": "code",
   "execution_count": 9,
   "metadata": {},
   "outputs": [
    {
     "name": "stdout",
     "output_type": "stream",
     "text": [
      "Saving / printing file:  DQIMQN _annotated.jpg\n",
      "Saving / printing file:  L7CT2I _annotated.jpg\n",
      "Saving / printing file:  UDPYYD _annotated.jpg\n"
     ]
    }
   ],
   "source": [
    "# Print images from the validation data and use the corresponding csv files to add bounding boxes of classified entities\n",
    "saveOrPrintImages(\"data/validation_data/\", print_to_output=False, valBoundingBoxes=True, thickness=5, saveImagesPath=\"./data/validation_data/\")"
   ]
  }
 ],
 "metadata": {
  "kernelspec": {
   "display_name": "Python 3.9.4 64-bit",
   "language": "python",
   "name": "python3"
  },
  "language_info": {
   "codemirror_mode": {
    "name": "ipython",
    "version": 3
   },
   "file_extension": ".py",
   "mimetype": "text/x-python",
   "name": "python",
   "nbconvert_exporter": "python",
   "pygments_lexer": "ipython3",
   "version": "3.9.4"
  },
  "orig_nbformat": 4,
  "vscode": {
   "interpreter": {
    "hash": "8a578b60687b99a82ca78389cf5818de06cdae5f0e0fb7a238655a79bce45af2"
   }
  }
 },
 "nbformat": 4,
 "nbformat_minor": 2
}
